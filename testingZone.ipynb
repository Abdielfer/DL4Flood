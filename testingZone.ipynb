{
 "cells": [
  {
   "cell_type": "code",
   "execution_count": null,
   "metadata": {},
   "outputs": [],
   "source": [
    "from sys import platform\n",
    "def getPlatform():\n",
    "    OPS = ''\n",
    "    if platform == \"darwin\":\n",
    "        OPS = \"mac\"\n",
    "    elif platform == \"win32\":\n",
    "        OPS = \"win\"\n",
    "    return OPS \n",
    "\n",
    "####   \n",
    "\n",
    "OPS = getPlatform()\n",
    "\n",
    "if OPS == 'mac': \n",
    "    configPath = 'config\\configMac.yaml'\n",
    "elif OPS == 'win':\n",
    "    configPath = 'config\\configPC.yaml'\n",
    "\n",
    "print(OPS)"
   ]
  },
  {
   "cell_type": "code",
   "execution_count": 1,
   "metadata": {},
   "outputs": [
    {
     "name": "stderr",
     "output_type": "stream",
     "text": [
      "C:\\Users\\abfernan\\.conda\\envs\\geo_deep_env\\lib\\site-packages\\torchvision\\io\\image.py:13: UserWarning: Failed to load image Python extension: [WinError 127] The specified procedure could not be found\n",
      "  warn(f\"Failed to load image Python extension: {e}\")\n"
     ]
    }
   ],
   "source": [
    "### ____ Run in Mac: \n",
    "import os\n",
    "import sys\n",
    "sys.path.append('/Users/abdielfer/RNCanWork/DL4Flood/')\n",
    "from model_set.models import UNetFlood\n",
    "from scr import util as U\n",
    "from scr import dataLoader as D\n",
    "from scr import models_trainer\n",
    "from scr import losses as L\n",
    "from scr.losses import iou_binary,binaryAccuracy\n",
    "import torch\n",
    "from torch import nn\n",
    "from torch.optim import Adam, SGD"
   ]
  },
  {
   "cell_type": "code",
   "execution_count": null,
   "metadata": {},
   "outputs": [],
   "source": [
    "use_cuda = torch.cuda.is_available()\n",
    "print(use_cuda)"
   ]
  },
  {
   "cell_type": "code",
   "execution_count": 2,
   "metadata": {},
   "outputs": [
    {
     "name": "stdout",
     "output_type": "stream",
     "text": [
      "Dataset lens : train: 230 :-- valSet: 100\n"
     ]
    }
   ],
   "source": [
    "datalistPath = r'\\Users\\abfernan\\CrossCanFloodMapping\\RawData\\TestTiling\\percentage_1\\percentage_1_feat1_min-annot10_trn.csv'\n",
    "\n",
    "# NOTE: We need to put r in front of the string, to denote raw string. Otherwise,'_' character will truncate the string \n",
    "args = {'batch_size': 1, 'num_workers': 1,'drop_last': True}\n",
    "\n",
    "fullSet = D.customDataSet(datalistPath)\n",
    "img,mask=fullSet.__getitem__(0)\n",
    "trainSet, valSet = D.splitDataset(fullSet)\n",
    "print(f\"Dataset lens : train: {trainSet.__len__()} :-- valSet: {valSet.__len__()}\")\n",
    "\n",
    "train_set = D.customDataloader(trainSet,args)  #.getDataloader()     \n",
    "val_set = D.customDataloader(valSet,args)  #.getDataloader()\n",
    "# rasterPath = '/Users/abdielfer/RNCanWork/GDLData/TestTiling/template_project/trn/VilleGatineau-1/images/'\n"
   ]
  },
  {
   "cell_type": "code",
   "execution_count": 2,
   "metadata": {},
   "outputs": [],
   "source": []
  },
  {
   "cell_type": "code",
   "execution_count": 3,
   "metadata": {},
   "outputs": [],
   "source": [
    "datalistPath = r'\\Users\\abfernan\\CrossCanFloodMapping\\RawData\\TestTiling\\percentage_1\\TestPermanentTransf.csv'\n",
    "savePath = r'C:\\Users\\abfernan\\CrossCanFloodMapping\\RawData\\TestTiling\\percentage_1\\val'\n",
    "TransfoSet = D.customDataSet(datalistPath)\n",
    "#D.offlineTransformation(TransfoSet,savePath,savePath)"
   ]
  },
  {
   "cell_type": "code",
   "execution_count": 4,
   "metadata": {},
   "outputs": [],
   "source": [
    "import csv\n",
    "with open(datalistPath, \"r\") as f:\n",
    "        reader = csv.reader(f, delimiter=\";\")\n",
    "        for _,line in enumerate(reader):\n",
    "            path = line[0]\n",
    "            break "
   ]
  },
  {
   "cell_type": "code",
   "execution_count": 5,
   "metadata": {},
   "outputs": [
    {
     "name": "stdout",
     "output_type": "stream",
     "text": [
      "C:\\Users\\abfernan\\CrossCanFloodMapping\\RawData\\TestTiling\\percentage_1\\trn\\exp1\\images\\ON_VilleGatineau_440125_7778218668_5037429_508255529.tif\n"
     ]
    }
   ],
   "source": [
    "print(path)"
   ]
  },
  {
   "cell_type": "code",
   "execution_count": 6,
   "metadata": {},
   "outputs": [
    {
     "name": "stdout",
     "output_type": "stream",
     "text": [
      "{'driver': 'GTiff', 'dtype': 'uint16', 'nodata': None, 'width': 384, 'height': 384, 'count': 1, 'crs': CRS.from_epsg(2959), 'transform': Affine(5.0, 0.0, 440125.7778218668,\n",
      "       0.0, -5.0, 5037429.508255529), 'blockysize': 10, 'tiled': False, 'compress': 'deflate', 'interleave': 'band'}\n"
     ]
    }
   ],
   "source": [
    "im,params = U.readRaster(path)\n",
    "print(params)"
   ]
  },
  {
   "cell_type": "code",
   "execution_count": 5,
   "metadata": {},
   "outputs": [],
   "source": [
    "model = UNetFlood(1,1)\n",
    "# loss_fn = nn.CrossEntropyLoss() if model.classes > 1 else nn.BCEWithLogitsLoss()\n",
    "loss_fn = L.lovasz_hinge\n",
    "\n",
    "optimizer = Adam(model.parameters(), lr = 0.0001) #SGD(model.parameters(), lr=0.0001, momentum=0.9)##  \n",
    "\n",
    "trainer = models_trainer.models_trainer(model,loss_fn,optimizer, iou_binary)\n",
    "trainer.set_loaders(train_set,val_set)"
   ]
  },
  {
   "cell_type": "code",
   "execution_count": 6,
   "metadata": {},
   "outputs": [
    {
     "name": "stdout",
     "output_type": "stream",
     "text": [
      "Actual metric <function iou_binary at 0x0000026F98A04DC0>\n",
      "Epoch 0 ........ ->\n",
      "train Loss = 0.7075396777495094\n",
      "val Loss = 8.973279465436935\n",
      "Metric(s) per minibatch = 0.0\n",
      "Epoch 1 ........ ->\n",
      "train Loss = 0.4772095281144847\n",
      "val Loss = 40.144722459316256\n",
      "Metric(s) per minibatch = 0.0\n",
      "Epoch 2 ........ ->\n",
      "train Loss = 0.45537752628974293\n",
      "val Loss = 11.904072012901306\n",
      "Metric(s) per minibatch = 0.0\n",
      "Epoch 3 ........ ->\n",
      "train Loss = 0.3352937022628992\n",
      "val Loss = 6.784332318305969\n",
      "Metric(s) per minibatch = 0.0\n",
      "Epoch 4 ........ ->\n",
      "train Loss = 0.402397344229014\n",
      "val Loss = 14.254134781360627\n",
      "Metric(s) per minibatch = 0.0\n",
      "Epoch 5 ........ ->\n",
      "train Loss = 0.3870721247209155\n",
      "val Loss = 9.592169649600983\n",
      "Metric(s) per minibatch = 0.0\n",
      "Epoch 6 ........ ->\n",
      "train Loss = 0.4069020982021871\n",
      "val Loss = 10.632361184358597\n",
      "Metric(s) per minibatch = 0.0\n",
      "Epoch 7 ........ ->\n",
      "train Loss = 0.36549338277267374\n",
      "val Loss = 5.481883292198181\n",
      "Metric(s) per minibatch = 0.0\n",
      "Epoch 8 ........ ->\n",
      "train Loss = 0.3677996046517206\n",
      "val Loss = 9.516933460235595\n",
      "Metric(s) per minibatch = 0.0\n",
      "Epoch 9 ........ ->\n",
      "train Loss = 0.4522853884684003\n",
      "val Loss = 14.441553840637207\n",
      "Metric(s) per minibatch = 0.0\n"
     ]
    },
    {
     "data": {
      "image/png": "[encoded data removed]",
      "text/plain": [
       "<Figure size 1000x400 with 1 Axes>"
      ]
     },
     "metadata": {},
     "output_type": "display_data"
    }
   ],
   "source": [
    "trainer.train(10)"
   ]
  },
  {
   "cell_type": "code",
   "execution_count": null,
   "metadata": {},
   "outputs": [],
   "source": [
    "trainer.load_checkpoint('2304061151')"
   ]
  },
  {
   "cell_type": "code",
   "execution_count": null,
   "metadata": {},
   "outputs": [],
   "source": [
    "item = next(iter(val_set))\n",
    "imag = item[0]\n",
    "mask = item[1]\n",
    "print('image to model input shape',imag.shape)\n",
    "\n",
    "model.eval()\n",
    "Y_hat = model(imag)\n",
    "print('Y_hat to model input shape',Y_hat.shape)\n",
    "model.train()\n"
   ]
  },
  {
   "cell_type": "code",
   "execution_count": null,
   "metadata": {},
   "outputs": [],
   "source": [
    "for i in range(0,imag.shape[0]):\n",
    "    U.plotImageAndMask(Y_hat[i][0], mask[i][0])\n"
   ]
  },
  {
   "cell_type": "code",
   "execution_count": null,
   "metadata": {},
   "outputs": [],
   "source": [
    "##  Works well!\n",
    "# Testing util.makePredictionRaster() for inference.\n",
    "inToInfer,_ = U.readRaster(rasterPath)\n",
    "\n",
    "imgToInferTensor = U.imageToTensor(inToInfer)\n",
    "print(\"imgToInferTensor shape: ----\", imgToInferTensor.shape)\n",
    "out = U.makePredictionRaster(rasterPath, model,saveRaster=True)\n",
    "print('out shape: _____ ',out.shape)\n"
   ]
  },
  {
   "cell_type": "code",
   "execution_count": null,
   "metadata": {},
   "outputs": [],
   "source": [
    "#test IoU\n",
    "# Modified mask: righ up corner have been removed from real mask in QGIS. Both share CRS, resolution, ect. \n",
    "parentDir = r'C:\\Users\\abfernan\\CrossCanFloodMapping\\RawData\\SyntheticPredictionandMask'\n",
    "realMask = 'mask1.tif'\n",
    "modifiedMask = 'SintheticGT1_1.tif'\n",
    "\n",
    "maskPath = os.path.join(parentDir,realMask)\n",
    "gtPath = os.path.join(parentDir, modifiedMask)\n",
    "print(maskPath, gtPath)\n",
    "\n",
    "real,_ = U.readRaster(maskPath)\n",
    "modified,_ = U.readRaster(gtPath)\n",
    "\n",
    "ioUB = iou_binary(real,modified)\n",
    "print(f\"iou_binary : {ioUB}\")\n",
    "\n",
    "realTensor = U.imageToTensor(real)\n",
    "modifiedTensor = U.imageToTensor(modified)\n",
    "\n",
    "print(f\"binaryAccuracy : {binaryAccuracy(realTensor,modifiedTensor)}\")\n",
    "\n",
    "U.plotImageAndMask(U.imageToTensor(real)[0],U.imageToTensor(modified)[0],'original mask','modified mask')\n",
    "\n",
    "#  OUTPUT = 87,987% iou, is a good representation of mask differences. "
   ]
  },
  {
   "cell_type": "code",
   "execution_count": null,
   "metadata": {},
   "outputs": [],
   "source": [
    "U.plotImageAndMask(imgToInferTensor[0],rasterData[0])"
   ]
  },
  {
   "cell_type": "code",
   "execution_count": null,
   "metadata": {},
   "outputs": [],
   "source": [
    "import torch as T\n",
    "from torch.autograd import Variable"
   ]
  },
  {
   "cell_type": "code",
   "execution_count": null,
   "metadata": {},
   "outputs": [],
   "source": [
    "flated = Y_hat[0][0].view(-1)\n",
    "signs = 2. * Y_hat[0][0].float() - 1.\n",
    "# print(Y_hat[0][0][0:20,340:350])\n",
    "# print('signe : ____',signs[0:20,340:350])\n",
    "# print(signs.shape)\n",
    "zerosAndOnes = torch.where(signs==-1,torch.tensor(0),signs)\n",
    "# print(zerosAndOnes[0:20,340:350])\n",
    "errors = (1. - Y_hat[0][0] * Variable(signs))\n",
    "U.plotImageAndMask(Y_hat[0][0], zerosAndOnes)\n",
    "ioUB = L.iou_binary(zerosAndOnes,zerosAndOnes, per_image=False)\n",
    "print(ioUB)"
   ]
  },
  {
   "cell_type": "code",
   "execution_count": null,
   "metadata": {},
   "outputs": [],
   "source": [
    "####   Apply sigmoid to the output image to compare with Mask...IMportant!!!!\n",
    "y_hatSigmoided = torch.sigmoid(Y_hat[0][0])\n",
    "U.plotImageAndMask(y_hatSigmoided, mask[0][0])"
   ]
  },
  {
   "cell_type": "code",
   "execution_count": null,
   "metadata": {},
   "outputs": [],
   "source": [
    "### Visualize all batch image-mask pairs. \n",
    "# NOTE :   img, mask = next(iter(train_set))\n",
    "i = 0\n",
    "j = 0\n",
    "for batch in train_set:\n",
    "    for item in batch:\n",
    "        print(f\"Bathc {i}, item {j}\")\n",
    "        print('item',item.shape)\n",
    "        j +=1\n",
    "        \n",
    "    # U.plotImageAndMask(batch[0][0],batch[1][0])\n",
    "    i+=1\n",
    "    j=0  \n",
    "    print(\"_______\") \n"
   ]
  },
  {
   "cell_type": "markdown",
   "metadata": {},
   "source": [
    "# Things to test: \n",
    "## Image visualization."
   ]
  },
  {
   "cell_type": "code",
   "execution_count": null,
   "metadata": {},
   "outputs": [],
   "source": [
    "## Ref: \n",
    "\n",
    "from typing import Iterable, List\n",
    "import torch\n",
    "import matplotlib.pyplot as plt\n",
    "\n",
    "def plot_imgs(images: Iterable, axs: Iterable, chnls: List[int] = [2, 1, 0], bright: float = 3.):\n",
    "    for img, ax in zip(images, axs):\n",
    "        arr = torch.clamp(bright * img, min=0, max=1).numpy()\n",
    "        rgb = arr.transpose(1, 2, 0)[:, :, chnls]\n",
    "        ax.imshow(rgb)\n",
    "        ax.axis('off')\n",
    "\n",
    "\n",
    "def plot_msks(masks: Iterable, axs: Iterable):\n",
    "    for mask, ax in zip(masks, axs):\n",
    "        ax.imshow(mask.squeeze().numpy(), cmap='gray')\n",
    "        ax.axis('off')\n",
    "\n",
    "def plot_batch(batch: dict, bright: float = 3., cols: int = 4, width: int = 5, chnls: List[int] = [2, 1, 0]):\n",
    "\n",
    "    # Get the samples and the number of items in the batch\n",
    "    samples = unbind_samples(batch.copy())\n",
    "    \n",
    "    # if batch contains images and masks, the number of images will be doubled\n",
    "    n = 2 * len(samples) if ('image' in batch) and ('mask' in batch) else len(samples)\n",
    "\n",
    "    # calculate the number of rows in the grid\n",
    "    rows = n//cols + (1 if n%cols != 0 else 0)\n",
    "\n",
    "    # create a grid\n",
    "    _, axs = plt.subplots(rows, cols, figsize=(cols*width, rows*width))  \n",
    "\n",
    "    if ('image' in batch) and ('mask' in batch):\n",
    "        # plot the images on the even axis\n",
    "        plot_imgs(images=map(lambda x: x['image'], samples), axs=axs.reshape(-1)[::2], chnls=chnls, bright=bright) #type: ignore\n",
    "\n",
    "        # plot the masks on the odd axis\n",
    "        plot_msks(masks=map(lambda x: x['mask'], samples), axs=axs.reshape(-1)[1::2]) #type: ignore\n",
    "\n",
    "    else:\n",
    "\n",
    "        if 'image' in batch:\n",
    "            plot_imgs(images=map(lambda x: x['image'], samples), axs=axs.reshape(-1), chnls=chnls, bright=bright) #type: ignore\n",
    "    \n",
    "        elif 'mask' in batch:\n",
    "            plot_msks(masks=map(lambda x: x['mask'], samples), axs=axs.reshape(-1)) #type: ignore"
   ]
  },
  {
   "cell_type": "code",
   "execution_count": null,
   "metadata": {},
   "outputs": [],
   "source": [
    "\n",
    "from pathlib import  Path\n",
    "import xarray as xr\n",
    "import matplotlib.pyplot as plt\n",
    "\n",
    "root = Path('dset-s2')\n",
    "assert root.exists()\n",
    "\n",
    "train_imgs = list((root/'tra_scene').glob('*.tif'))\n",
    "train_masks = list((root/'tra_truth').glob('*.tif'))\n",
    "\n",
    "# As the images and corresponding masks are matched by name, we will sort both lists to keep them synchronized.\n",
    "train_imgs.sort(); train_masks.sort()\n",
    "     \n",
    "\n",
    "idx = 0\n",
    "img = xr.open_rasterio(train_imgs[idx])\n",
    "mask = xr.open_rasterio(train_masks[idx])\n",
    "_, axs = plt.subplots(1, 2, figsize=(15, 6))\n",
    "\n",
    "# plot the tile\n",
    "rgb = img.data[[2, 1, 0]].transpose((1, 2, 0))/3000\n",
    "axs[0].imshow(rgb.clip(min=0, max=1))\n",
    "\n",
    "# plot the mask\n",
    "axs[1].imshow(mask.data.squeeze(), cmap='Blues')"
   ]
  },
  {
   "cell_type": "markdown",
   "metadata": {},
   "source": [
    "# Cleaning sampling from GDL.\n",
    "### GDL sampling includes images with no mask matching. In this section we remove unnecessary files.  "
   ]
  },
  {
   "cell_type": "code",
   "execution_count": null,
   "metadata": {},
   "outputs": [],
   "source": [
    "\n",
    "scvPath = r'C:\\Users\\abfernan\\CrossCanFloodMapping\\RawData\\TestTiling\\percentage_1\\percentage_1_feat1_min-annot10_trn.csv'\n",
    "# tifDirPath = r''"
   ]
  },
  {
   "cell_type": "code",
   "execution_count": null,
   "metadata": {},
   "outputs": [],
   "source": [
    "import csv\n",
    " \n",
    "# open the file in read mode\n",
    "filename = open(scvPath, 'r')\n",
    " \n",
    "# creating dictreader object\n",
    "file = csv.DictReader(filename)\n",
    "print(file)"
   ]
  },
  {
   "cell_type": "code",
   "execution_count": 7,
   "metadata": {},
   "outputs": [
    {
     "ename": "KeyError",
     "evalue": "'image'",
     "output_type": "error",
     "traceback": [
      "\u001b[1;31m---------------------------------------------------------------------------\u001b[0m",
      "\u001b[1;31mKeyError\u001b[0m                                  Traceback (most recent call last)",
      "File \u001b[1;32m~\\.conda\\envs\\geo_deep_env\\lib\\site-packages\\pandas\\core\\indexes\\base.py:3802\u001b[0m, in \u001b[0;36mIndex.get_loc\u001b[1;34m(self, key, method, tolerance)\u001b[0m\n\u001b[0;32m   3801\u001b[0m \u001b[38;5;28;01mtry\u001b[39;00m:\n\u001b[1;32m-> 3802\u001b[0m     \u001b[38;5;28;01mreturn\u001b[39;00m \u001b[38;5;28;43mself\u001b[39;49m\u001b[38;5;241;43m.\u001b[39;49m\u001b[43m_engine\u001b[49m\u001b[38;5;241;43m.\u001b[39;49m\u001b[43mget_loc\u001b[49m\u001b[43m(\u001b[49m\u001b[43mcasted_key\u001b[49m\u001b[43m)\u001b[49m\n\u001b[0;32m   3803\u001b[0m \u001b[38;5;28;01mexcept\u001b[39;00m \u001b[38;5;167;01mKeyError\u001b[39;00m \u001b[38;5;28;01mas\u001b[39;00m err:\n",
      "File \u001b[1;32m~\\.conda\\envs\\geo_deep_env\\lib\\site-packages\\pandas\\_libs\\index.pyx:138\u001b[0m, in \u001b[0;36mpandas._libs.index.IndexEngine.get_loc\u001b[1;34m()\u001b[0m\n",
      "File \u001b[1;32m~\\.conda\\envs\\geo_deep_env\\lib\\site-packages\\pandas\\_libs\\index.pyx:165\u001b[0m, in \u001b[0;36mpandas._libs.index.IndexEngine.get_loc\u001b[1;34m()\u001b[0m\n",
      "File \u001b[1;32mpandas\\_libs\\hashtable_class_helper.pxi:5745\u001b[0m, in \u001b[0;36mpandas._libs.hashtable.PyObjectHashTable.get_item\u001b[1;34m()\u001b[0m\n",
      "File \u001b[1;32mpandas\\_libs\\hashtable_class_helper.pxi:5753\u001b[0m, in \u001b[0;36mpandas._libs.hashtable.PyObjectHashTable.get_item\u001b[1;34m()\u001b[0m\n",
      "\u001b[1;31mKeyError\u001b[0m: 'image'",
      "\nThe above exception was the direct cause of the following exception:\n",
      "\u001b[1;31mKeyError\u001b[0m                                  Traceback (most recent call last)",
      "Cell \u001b[1;32mIn[7], line 7\u001b[0m\n\u001b[0;32m      4\u001b[0m scvPath \u001b[38;5;241m=\u001b[39m \u001b[38;5;124mr\u001b[39m\u001b[38;5;124m'\u001b[39m\u001b[38;5;124mC:\u001b[39m\u001b[38;5;124m\\\u001b[39m\u001b[38;5;124mUsers\u001b[39m\u001b[38;5;124m\\\u001b[39m\u001b[38;5;124mabfernan\u001b[39m\u001b[38;5;124m\\\u001b[39m\u001b[38;5;124mCrossCanFloodMapping\u001b[39m\u001b[38;5;124m\\\u001b[39m\u001b[38;5;124mRawData\u001b[39m\u001b[38;5;124m\\\u001b[39m\u001b[38;5;124mTestTiling\u001b[39m\u001b[38;5;124m\\\u001b[39m\u001b[38;5;124mpercentage_1\u001b[39m\u001b[38;5;124m\\\u001b[39m\u001b[38;5;124mpercentage_1_feat1_min-annot10_trn.csv\u001b[39m\u001b[38;5;124m'\u001b[39m\n\u001b[0;32m      5\u001b[0m tifDir \u001b[38;5;241m=\u001b[39m \u001b[38;5;124mr\u001b[39m\u001b[38;5;124m'\u001b[39m\u001b[38;5;124mC:\u001b[39m\u001b[38;5;124m\\\u001b[39m\u001b[38;5;124mUsers\u001b[39m\u001b[38;5;124m\\\u001b[39m\u001b[38;5;124mabfernan\u001b[39m\u001b[38;5;124m\\\u001b[39m\u001b[38;5;124mCrossCanFloodMapping\u001b[39m\u001b[38;5;124m\\\u001b[39m\u001b[38;5;124mRawData\u001b[39m\u001b[38;5;124m\\\u001b[39m\u001b[38;5;124mTestTiling\u001b[39m\u001b[38;5;124m\\\u001b[39m\u001b[38;5;124mpercentage_1\u001b[39m\u001b[38;5;124m\\\u001b[39m\u001b[38;5;124mtrn\u001b[39m\u001b[38;5;124m\\\u001b[39m\u001b[38;5;124mexp1\u001b[39m\u001b[38;5;124m\\\u001b[39m\u001b[38;5;124mimages\u001b[39m\u001b[38;5;124m'\u001b[39m\n\u001b[1;32m----> 7\u001b[0m csvList \u001b[38;5;241m=\u001b[39m \u001b[43mU\u001b[49m\u001b[38;5;241;43m.\u001b[39;49m\u001b[43mcreateListFromCSVColumn\u001b[49m\u001b[43m(\u001b[49m\u001b[43mscvPath\u001b[49m\u001b[43m,\u001b[49m\u001b[38;5;124;43m'\u001b[39;49m\u001b[38;5;124;43mimage\u001b[39;49m\u001b[38;5;124;43m'\u001b[39;49m\u001b[43m,\u001b[49m\u001b[43m \u001b[49m\u001b[43mdelim\u001b[49m\u001b[43m \u001b[49m\u001b[38;5;241;43m=\u001b[39;49m\u001b[43m \u001b[49m\u001b[38;5;124;43m'\u001b[39;49m\u001b[38;5;124;43m;\u001b[39;49m\u001b[38;5;124;43m'\u001b[39;49m\u001b[43m)\u001b[49m\n\u001b[0;32m      8\u001b[0m tifList \u001b[38;5;241m=\u001b[39m U\u001b[38;5;241m.\u001b[39mlistFreeFilesInDirByExt(tifDir, ext\u001b[38;5;241m=\u001b[39m\u001b[38;5;124m'\u001b[39m\u001b[38;5;124mtif\u001b[39m\u001b[38;5;124m'\u001b[39m)\n\u001b[0;32m     10\u001b[0m i \u001b[38;5;241m=\u001b[39m \u001b[38;5;241m0\u001b[39m\n",
      "File \u001b[1;32m~\\CrossCanFloodMapping\\DL4Flood\\scr\\util.py:236\u001b[0m, in \u001b[0;36mcreateListFromCSVColumn\u001b[1;34m(csv_file_location, col_idx, delim)\u001b[0m\n\u001b[0;32m    234\u001b[0m x\u001b[38;5;241m=\u001b[39m[]\n\u001b[0;32m    235\u001b[0m df \u001b[38;5;241m=\u001b[39m pd\u001b[38;5;241m.\u001b[39mread_csv(csv_file_location, index_col \u001b[38;5;241m=\u001b[39m \u001b[38;5;28;01mNone\u001b[39;00m, delimiter \u001b[38;5;241m=\u001b[39m delim)\n\u001b[1;32m--> 236\u001b[0m \u001b[38;5;28;01mfor\u001b[39;00m i \u001b[38;5;129;01min\u001b[39;00m \u001b[43mdf\u001b[49m\u001b[43m[\u001b[49m\u001b[43mcol_idx\u001b[49m\u001b[43m]\u001b[49m:\n\u001b[0;32m    237\u001b[0m     x\u001b[38;5;241m.\u001b[39mappend(i)\n\u001b[0;32m    238\u001b[0m \u001b[38;5;28;01mreturn\u001b[39;00m x\n",
      "File \u001b[1;32m~\\.conda\\envs\\geo_deep_env\\lib\\site-packages\\pandas\\core\\frame.py:3807\u001b[0m, in \u001b[0;36mDataFrame.__getitem__\u001b[1;34m(self, key)\u001b[0m\n\u001b[0;32m   3805\u001b[0m \u001b[38;5;28;01mif\u001b[39;00m \u001b[38;5;28mself\u001b[39m\u001b[38;5;241m.\u001b[39mcolumns\u001b[38;5;241m.\u001b[39mnlevels \u001b[38;5;241m>\u001b[39m \u001b[38;5;241m1\u001b[39m:\n\u001b[0;32m   3806\u001b[0m     \u001b[38;5;28;01mreturn\u001b[39;00m \u001b[38;5;28mself\u001b[39m\u001b[38;5;241m.\u001b[39m_getitem_multilevel(key)\n\u001b[1;32m-> 3807\u001b[0m indexer \u001b[38;5;241m=\u001b[39m \u001b[38;5;28;43mself\u001b[39;49m\u001b[38;5;241;43m.\u001b[39;49m\u001b[43mcolumns\u001b[49m\u001b[38;5;241;43m.\u001b[39;49m\u001b[43mget_loc\u001b[49m\u001b[43m(\u001b[49m\u001b[43mkey\u001b[49m\u001b[43m)\u001b[49m\n\u001b[0;32m   3808\u001b[0m \u001b[38;5;28;01mif\u001b[39;00m is_integer(indexer):\n\u001b[0;32m   3809\u001b[0m     indexer \u001b[38;5;241m=\u001b[39m [indexer]\n",
      "File \u001b[1;32m~\\.conda\\envs\\geo_deep_env\\lib\\site-packages\\pandas\\core\\indexes\\base.py:3804\u001b[0m, in \u001b[0;36mIndex.get_loc\u001b[1;34m(self, key, method, tolerance)\u001b[0m\n\u001b[0;32m   3802\u001b[0m     \u001b[38;5;28;01mreturn\u001b[39;00m \u001b[38;5;28mself\u001b[39m\u001b[38;5;241m.\u001b[39m_engine\u001b[38;5;241m.\u001b[39mget_loc(casted_key)\n\u001b[0;32m   3803\u001b[0m \u001b[38;5;28;01mexcept\u001b[39;00m \u001b[38;5;167;01mKeyError\u001b[39;00m \u001b[38;5;28;01mas\u001b[39;00m err:\n\u001b[1;32m-> 3804\u001b[0m     \u001b[38;5;28;01mraise\u001b[39;00m \u001b[38;5;167;01mKeyError\u001b[39;00m(key) \u001b[38;5;28;01mfrom\u001b[39;00m \u001b[38;5;21;01merr\u001b[39;00m\n\u001b[0;32m   3805\u001b[0m \u001b[38;5;28;01mexcept\u001b[39;00m \u001b[38;5;167;01mTypeError\u001b[39;00m:\n\u001b[0;32m   3806\u001b[0m     \u001b[38;5;66;03m# If we have a listlike key, _check_indexing_error will raise\u001b[39;00m\n\u001b[0;32m   3807\u001b[0m     \u001b[38;5;66;03m#  InvalidIndexError. Otherwise we fall through and re-raise\u001b[39;00m\n\u001b[0;32m   3808\u001b[0m     \u001b[38;5;66;03m#  the TypeError.\u001b[39;00m\n\u001b[0;32m   3809\u001b[0m     \u001b[38;5;28mself\u001b[39m\u001b[38;5;241m.\u001b[39m_check_indexing_error(key)\n",
      "\u001b[1;31mKeyError\u001b[0m: 'image'"
     ]
    }
   ],
   "source": [
    "# 1-recorrer el directorio y crear lista de todos los *.tif. 2-importar *.csv list of images and mask.\n",
    "# 3-compara cada nombre en la lista de *.tif con los de la lista from *.csv, 4- si no esta en la lista, borrar.\n",
    "\n",
    "scvPath = r'C:\\Users\\abfernan\\CrossCanFloodMapping\\RawData\\TestTiling\\percentage_1\\percentage_1_feat1_min-annot10_trn.csv'\n",
    "tifDir = r'C:\\Users\\abfernan\\CrossCanFloodMapping\\RawData\\TestTiling\\percentage_1\\trn\\exp1\\images'\n",
    "\n",
    "csvList = U.createListFromCSVColumn(scvPath,'image', delim = ';')\n",
    "tifList = U.listFreeFilesInDirByExt(tifDir, ext='tif')\n",
    "\n",
    "i = 0\n",
    "j = 0\n",
    "for tif in tifList:\n",
    "    j+=1\n",
    "    for n in csvList:\n",
    "        if tif in n:\n",
    "            i+=1\n",
    "#             print('True')            \n",
    "print(f\"Total of files in list and folder {i}\")\n",
    "print(f\"files without match {j - i}\")"
   ]
  },
  {
   "cell_type": "code",
   "execution_count": null,
   "metadata": {},
   "outputs": [],
   "source": []
  },
  {
   "cell_type": "code",
   "execution_count": null,
   "metadata": {},
   "outputs": [],
   "source": []
  }
 ],
 "metadata": {
  "kernelspec": {
   "display_name": "Python 3 (ipykernel)",
   "language": "python",
   "name": "python3"
  },
  "language_info": {
   "codemirror_mode": {
    "name": "ipython",
    "version": 3
   },
   "file_extension": ".py",
   "mimetype": "text/x-python",
   "name": "python",
   "nbconvert_exporter": "python",
   "pygments_lexer": "ipython3",
   "version": "3.10.10"
  }
 },
 "nbformat": 4,
 "nbformat_minor": 2
}
