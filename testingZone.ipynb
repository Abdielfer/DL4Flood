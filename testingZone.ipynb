{
 "cells": [
  {
   "cell_type": "code",
   "execution_count": 1,
   "metadata": {},
   "outputs": [],
   "source": [
    "import os\n",
    "import sys\n",
    "sys.path.append('/Users/abdielfer/RNCanWork/DL4Flood/')\n",
    "from model_set.models import UNetFlood\n",
    "from scr import util as U\n",
    "from scr import dataLoader as D\n",
    "from scr import models_trainer\n",
    "from scr import losses as L\n",
    "from scr.losses import iou_binary,binaryAccuracy\n",
    "from rasterio.plot import show\n",
    "import torch\n",
    "from torch import nn\n",
    "from torch.optim import Adam, SGD\n",
    "import numpy as np\n",
    "import pandas as pd"
   ]
  },
  {
   "cell_type": "code",
   "execution_count": null,
   "metadata": {},
   "outputs": [],
   "source": [
    "use_cuda = torch.cuda.is_available()\n",
    "print(use_cuda)"
   ]
  },
  {
   "cell_type": "markdown",
   "metadata": {},
   "source": [
    "# Building *.scv files with imag-mask pair path.  (OK)"
   ]
  },
  {
   "cell_type": "code",
   "execution_count": null,
   "metadata": {},
   "outputs": [],
   "source": []
  },
  {
   "cell_type": "code",
   "execution_count": 4,
   "metadata": {},
   "outputs": [
    {
     "name": "stdout",
     "output_type": "stream",
     "text": [
      "/home/abfernan/CrossCanFloodMap/DatasetCNNFlood/RawData/Class1/\n",
      "CWD in listFreeFilesInDirByExt_fullPath velum /home/abfernan/CrossCanFloodMap/DatasetCNNFlood/RawData/Class1/ \n",
      "We're in listFreeFilesInDirByExt_fullPath file ['QC_MontrealRiveSud_O.tif.aux.xml', 'NL_Exploits_C1.gpkg', 'QC_Quebec.tif.aux.xml', 'Hamilton_RichardsonFrancisWalkerCreek.tif.aux.xml', 'Ottawa_Gatineau_RideauMudBuckels_C1.gpkg', 'SK_Yorkton.tif.aux.xml', 'QC_Sherbrooke.tif.aux.xml', 'QC_Quebec_Levis.tif.aux.xml', 'QC_Abitibi_LaSarre_Subset.tif.aux.xml', 'SK_Regina.tif', 'Ottawa_Gatineau_VilleGatineau.tif.aux.xml', 'SK_Wolseley.tif', 'Hamilton_Niagara_WingnellEagleBearsBeaver.tif.aux.xml', 'SK_Watson.tif.aux.xml', 'NL_Exploits.tif', 'SK_Wolseley.tif.aux.xml', 'SK_FoamLake.tif.aux.xml', 'QC_MontrealRiveSud_O_C1.gpkg', 'QC_Gaspe1Et2_C1.gpkg', 'QC_MontrealRiveSud_E.tif.aux.xml', 'QC_Quebec_Levis.tif', 'QC_Quebec.tif', 'Hamilton_Niagara_WingnellEagleBearsBeaver.xml', 'SK_Yorkton_C1.gpkg', 'QC_RiviereBonaventure_C1.gpkg', 'SK_Borden.tif', 'SK_Watson_C1.gpkg', 'NS_EastHantsSackvilleRiver_C1.gpkg', 'NL_Churchill.tif.aux.xml', 'QC_RiviereBonaventure.tif', 'QC_Bromont.tif', 'QC_MontrealRiveSud_E.tif', 'Ottawa_Gatineau_FlowingNicholsHobbsKing.tif.aux.xml', 'CA_Lethbridge.tif.aux.xml', 'ON_Mississauga_C1.gpkg', 'Hamilton_Niagara_WingnellEagleBearsBeaver.tif', 'QC_MontrealRiveSud_O.tif', 'QC_Quebec_C1.gpkg', 'Ottawa_Gatineau_RideauMudBuckels.tif', 'SK_Moose_Jaw.tif.aux.xml', 'Ottawa_Gatineau_FlowingNicholsHobbsKing.tif', 'QC_Plessisville.tif', 'SK_Tisdale.tif.aux.xml', 'NF_Shearstown_C1.gpkg', 'SK_Borden.tif.aux.xml', 'NL_Exploits.tif.aux.xml', 'QC_RiviereBonaventure.tif.aux.xml', 'SK_Maple_Creek_C1.gpkg', 'SK_Moose_Jaw.tif', 'NF_StJohns.tif.aux.xml', 'SK_FoamLake_C1.gpkg', 'QC_Sherbrooke_C1.gpkg', 'Ottawa_Gatineau_RideauMudBuckels.tif.aux.xml', 'NS_MargareeRiver.tif', 'SK_Wolseley_C1.gpkg', 'SK_Maple_Creek.tif', 'QC_Sherbrooke.tif', 'QC_Abitibi_LaSarre_Subset.tif', 'NS_EastHantsSackvilleRiver.tif', 'CA_Lethbridge.tif', 'SK_Weyburn.tif', 'Hamilton_Niagara_WellandLyonsSingers_C1.gpkg', 'SK_Tisdale_C1.gpkg', 'Ottawa_Gatineau_CardinalBillberryBeckettsOttawa.tif', 'NF_StJohns.tif', 'SK_Wadena.tif', 'Ottawa_Gatineau_VilleGatineau.tif', 'Ottawa_Gatineau_FlowingNicholsHobbsKing_C1.gpkg', 'QC_Abitibi_LaSarre_Subset_C1.gpkg', 'SK_Weyburn.tif.aux.xml', 'NL_Churchill.tif', 'SK_Moose_Jaw_C1.gpkg', 'Hamilton_Niagara_WingnellEagleBearsBeaver_C1.gpkg', 'Ottawa_Gatineau_CardinalBillberryBeckettsOttawa_C1.gpkg', 'NS_EastKentville.tif.aux.xml', 'Ottawa_Gatineau_VilleGatineau_C1.gpkg', 'SK_Watson.tif', 'QC_Gaspe1Et2.tif', 'SK_Borden_C1.gpkg', 'SK_Weyburn_C1.gpkg', 'SK_Maple_Creek.tif.aux.xml', 'SK_Wadena.tif.aux.xml', 'SK_Regina.tif.aux.xml', 'NS_EastHantsSackvilleRiver.tif.aux.xml', 'ON_Mississauga.tif', 'QC_Bromont.tif.aux.xml', 'SK_FoamLake.tif', 'NS_MargareeRiver.tif.aux.xml', 'Hamilton_Niagara_WellandLyonsSingers.tif', 'QC_MontrealRiveSud_E_C1.gpkg', 'SK_Wadena_C1.gpkg', 'QC_Plessisville_C1.gpkg', 'QC_Quebec_Levis_C1.gpkg', 'NF_StJohns_C1.gpkg', 'NF_Shearstown.tif.aux.xml', 'NS_MargareeRiver_C1.gpkg', 'Hamilton_Niagara_WellandLyonsSingers.tif.aux.xml', 'SK_Regina_C1.gpkg', 'SK_Tisdale.tif', 'NS_EastKentville.tif', 'ON_Mississauga.tif.aux.xml', 'Hamilton_RichardsonFrancisWalkerCreek.tif', 'SK_Yorkton.tif', 'QC_Bromont_C1.gpkg', 'Ottawa_Gatineau_CardinalBillberryBeckettsOttawa.tif.aux.xml', 'Hamilton_RichardsonFrancisWalkerCreek_C1.gpkg', 'NS_EastKentville_C1.gpkg', 'CA_Lethbridge_C1.gpkg', 'QC_Plessisville.tif.aux.xml', 'NL_Churchill_C1.gpkg', 'QC_Gaspe1Et2.tif.aux.xml', 'NF_Shearstown.tif'] \n",
      "F in file QC_MontrealRiveSud_O.tif.aux.xml \n",
      "F in file NL_Exploits_C1.gpkg \n",
      "F in file QC_Quebec.tif.aux.xml \n",
      "F in file Hamilton_RichardsonFrancisWalkerCreek.tif.aux.xml \n",
      "F in file Ottawa_Gatineau_RideauMudBuckels_C1.gpkg \n",
      "F in file SK_Yorkton.tif.aux.xml \n",
      "F in file QC_Sherbrooke.tif.aux.xml \n",
      "F in file QC_Quebec_Levis.tif.aux.xml \n",
      "F in file QC_Abitibi_LaSarre_Subset.tif.aux.xml \n",
      "F in file SK_Regina.tif \n",
      "F in file Ottawa_Gatineau_VilleGatineau.tif.aux.xml \n",
      "F in file SK_Wolseley.tif \n",
      "F in file Hamilton_Niagara_WingnellEagleBearsBeaver.tif.aux.xml \n",
      "F in file SK_Watson.tif.aux.xml \n",
      "F in file NL_Exploits.tif \n",
      "F in file SK_Wolseley.tif.aux.xml \n",
      "F in file SK_FoamLake.tif.aux.xml \n",
      "F in file QC_MontrealRiveSud_O_C1.gpkg \n",
      "F in file QC_Gaspe1Et2_C1.gpkg \n",
      "F in file QC_MontrealRiveSud_E.tif.aux.xml \n",
      "F in file QC_Quebec_Levis.tif \n",
      "F in file QC_Quebec.tif \n",
      "F in file Hamilton_Niagara_WingnellEagleBearsBeaver.xml \n",
      "F in file SK_Yorkton_C1.gpkg \n",
      "F in file QC_RiviereBonaventure_C1.gpkg \n",
      "F in file SK_Borden.tif \n",
      "F in file SK_Watson_C1.gpkg \n",
      "F in file NS_EastHantsSackvilleRiver_C1.gpkg \n",
      "F in file NL_Churchill.tif.aux.xml \n",
      "F in file QC_RiviereBonaventure.tif \n",
      "F in file QC_Bromont.tif \n",
      "F in file QC_MontrealRiveSud_E.tif \n",
      "F in file Ottawa_Gatineau_FlowingNicholsHobbsKing.tif.aux.xml \n",
      "F in file CA_Lethbridge.tif.aux.xml \n",
      "F in file ON_Mississauga_C1.gpkg \n",
      "F in file Hamilton_Niagara_WingnellEagleBearsBeaver.tif \n",
      "F in file QC_MontrealRiveSud_O.tif \n",
      "F in file QC_Quebec_C1.gpkg \n",
      "F in file Ottawa_Gatineau_RideauMudBuckels.tif \n",
      "F in file SK_Moose_Jaw.tif.aux.xml \n",
      "F in file Ottawa_Gatineau_FlowingNicholsHobbsKing.tif \n",
      "F in file QC_Plessisville.tif \n",
      "F in file SK_Tisdale.tif.aux.xml \n",
      "F in file NF_Shearstown_C1.gpkg \n",
      "F in file SK_Borden.tif.aux.xml \n",
      "F in file NL_Exploits.tif.aux.xml \n",
      "F in file QC_RiviereBonaventure.tif.aux.xml \n",
      "F in file SK_Maple_Creek_C1.gpkg \n",
      "F in file SK_Moose_Jaw.tif \n",
      "F in file NF_StJohns.tif.aux.xml \n",
      "F in file SK_FoamLake_C1.gpkg \n",
      "F in file QC_Sherbrooke_C1.gpkg \n",
      "F in file Ottawa_Gatineau_RideauMudBuckels.tif.aux.xml \n",
      "F in file NS_MargareeRiver.tif \n",
      "F in file SK_Wolseley_C1.gpkg \n",
      "F in file SK_Maple_Creek.tif \n",
      "F in file QC_Sherbrooke.tif \n",
      "F in file QC_Abitibi_LaSarre_Subset.tif \n",
      "F in file NS_EastHantsSackvilleRiver.tif \n",
      "F in file CA_Lethbridge.tif \n",
      "F in file SK_Weyburn.tif \n",
      "F in file Hamilton_Niagara_WellandLyonsSingers_C1.gpkg \n",
      "F in file SK_Tisdale_C1.gpkg \n",
      "F in file Ottawa_Gatineau_CardinalBillberryBeckettsOttawa.tif \n",
      "F in file NF_StJohns.tif \n",
      "F in file SK_Wadena.tif \n",
      "F in file Ottawa_Gatineau_VilleGatineau.tif \n",
      "F in file Ottawa_Gatineau_FlowingNicholsHobbsKing_C1.gpkg \n",
      "F in file QC_Abitibi_LaSarre_Subset_C1.gpkg \n",
      "F in file SK_Weyburn.tif.aux.xml \n",
      "F in file NL_Churchill.tif \n",
      "F in file SK_Moose_Jaw_C1.gpkg \n",
      "F in file Hamilton_Niagara_WingnellEagleBearsBeaver_C1.gpkg \n",
      "F in file Ottawa_Gatineau_CardinalBillberryBeckettsOttawa_C1.gpkg \n",
      "F in file NS_EastKentville.tif.aux.xml \n",
      "F in file Ottawa_Gatineau_VilleGatineau_C1.gpkg \n",
      "F in file SK_Watson.tif \n",
      "F in file QC_Gaspe1Et2.tif \n",
      "F in file SK_Borden_C1.gpkg \n",
      "F in file SK_Weyburn_C1.gpkg \n",
      "F in file SK_Maple_Creek.tif.aux.xml \n",
      "F in file SK_Wadena.tif.aux.xml \n",
      "F in file SK_Regina.tif.aux.xml \n",
      "F in file NS_EastHantsSackvilleRiver.tif.aux.xml \n",
      "F in file ON_Mississauga.tif \n",
      "F in file QC_Bromont.tif.aux.xml \n",
      "F in file SK_FoamLake.tif \n",
      "F in file NS_MargareeRiver.tif.aux.xml \n",
      "F in file Hamilton_Niagara_WellandLyonsSingers.tif \n",
      "F in file QC_MontrealRiveSud_E_C1.gpkg \n",
      "F in file SK_Wadena_C1.gpkg \n",
      "F in file QC_Plessisville_C1.gpkg \n",
      "F in file QC_Quebec_Levis_C1.gpkg \n",
      "F in file NF_StJohns_C1.gpkg \n",
      "F in file NF_Shearstown.tif.aux.xml \n",
      "F in file NS_MargareeRiver_C1.gpkg \n",
      "F in file Hamilton_Niagara_WellandLyonsSingers.tif.aux.xml \n",
      "F in file SK_Regina_C1.gpkg \n",
      "F in file SK_Tisdale.tif \n",
      "F in file NS_EastKentville.tif \n",
      "F in file ON_Mississauga.tif.aux.xml \n",
      "F in file Hamilton_RichardsonFrancisWalkerCreek.tif \n",
      "F in file SK_Yorkton.tif \n",
      "F in file QC_Bromont_C1.gpkg \n",
      "F in file Ottawa_Gatineau_CardinalBillberryBeckettsOttawa.tif.aux.xml \n",
      "F in file Hamilton_RichardsonFrancisWalkerCreek_C1.gpkg \n",
      "F in file NS_EastKentville_C1.gpkg \n",
      "F in file CA_Lethbridge_C1.gpkg \n",
      "F in file QC_Plessisville.tif.aux.xml \n",
      "F in file NL_Churchill_C1.gpkg \n",
      "F in file QC_Gaspe1Et2.tif.aux.xml \n",
      "F in file NF_Shearstown.tif \n",
      "CWD in listFreeFilesInDirByExt_fullPath velum /home/abfernan/CrossCanFloodMap/DatasetCNNFlood/RawData/Class1/ \n",
      "We're in listFreeFilesInDirByExt_fullPath file ['QC_MontrealRiveSud_O.tif.aux.xml', 'NL_Exploits_C1.gpkg', 'QC_Quebec.tif.aux.xml', 'Hamilton_RichardsonFrancisWalkerCreek.tif.aux.xml', 'Ottawa_Gatineau_RideauMudBuckels_C1.gpkg', 'SK_Yorkton.tif.aux.xml', 'QC_Sherbrooke.tif.aux.xml', 'QC_Quebec_Levis.tif.aux.xml', 'QC_Abitibi_LaSarre_Subset.tif.aux.xml', 'SK_Regina.tif', 'Ottawa_Gatineau_VilleGatineau.tif.aux.xml', 'SK_Wolseley.tif', 'Hamilton_Niagara_WingnellEagleBearsBeaver.tif.aux.xml', 'SK_Watson.tif.aux.xml', 'NL_Exploits.tif', 'SK_Wolseley.tif.aux.xml', 'SK_FoamLake.tif.aux.xml', 'QC_MontrealRiveSud_O_C1.gpkg', 'QC_Gaspe1Et2_C1.gpkg', 'QC_MontrealRiveSud_E.tif.aux.xml', 'QC_Quebec_Levis.tif', 'QC_Quebec.tif', 'Hamilton_Niagara_WingnellEagleBearsBeaver.xml', 'SK_Yorkton_C1.gpkg', 'QC_RiviereBonaventure_C1.gpkg', 'SK_Borden.tif', 'SK_Watson_C1.gpkg', 'NS_EastHantsSackvilleRiver_C1.gpkg', 'NL_Churchill.tif.aux.xml', 'QC_RiviereBonaventure.tif', 'QC_Bromont.tif', 'QC_MontrealRiveSud_E.tif', 'Ottawa_Gatineau_FlowingNicholsHobbsKing.tif.aux.xml', 'CA_Lethbridge.tif.aux.xml', 'ON_Mississauga_C1.gpkg', 'Hamilton_Niagara_WingnellEagleBearsBeaver.tif', 'QC_MontrealRiveSud_O.tif', 'QC_Quebec_C1.gpkg', 'Ottawa_Gatineau_RideauMudBuckels.tif', 'SK_Moose_Jaw.tif.aux.xml', 'Ottawa_Gatineau_FlowingNicholsHobbsKing.tif', 'QC_Plessisville.tif', 'SK_Tisdale.tif.aux.xml', 'NF_Shearstown_C1.gpkg', 'SK_Borden.tif.aux.xml', 'NL_Exploits.tif.aux.xml', 'QC_RiviereBonaventure.tif.aux.xml', 'SK_Maple_Creek_C1.gpkg', 'SK_Moose_Jaw.tif', 'NF_StJohns.tif.aux.xml', 'SK_FoamLake_C1.gpkg', 'QC_Sherbrooke_C1.gpkg', 'Ottawa_Gatineau_RideauMudBuckels.tif.aux.xml', 'NS_MargareeRiver.tif', 'SK_Wolseley_C1.gpkg', 'SK_Maple_Creek.tif', 'QC_Sherbrooke.tif', 'QC_Abitibi_LaSarre_Subset.tif', 'NS_EastHantsSackvilleRiver.tif', 'CA_Lethbridge.tif', 'SK_Weyburn.tif', 'Hamilton_Niagara_WellandLyonsSingers_C1.gpkg', 'SK_Tisdale_C1.gpkg', 'Ottawa_Gatineau_CardinalBillberryBeckettsOttawa.tif', 'NF_StJohns.tif', 'SK_Wadena.tif', 'Ottawa_Gatineau_VilleGatineau.tif', 'Ottawa_Gatineau_FlowingNicholsHobbsKing_C1.gpkg', 'QC_Abitibi_LaSarre_Subset_C1.gpkg', 'SK_Weyburn.tif.aux.xml', 'NL_Churchill.tif', 'SK_Moose_Jaw_C1.gpkg', 'Hamilton_Niagara_WingnellEagleBearsBeaver_C1.gpkg', 'Ottawa_Gatineau_CardinalBillberryBeckettsOttawa_C1.gpkg', 'NS_EastKentville.tif.aux.xml', 'Ottawa_Gatineau_VilleGatineau_C1.gpkg', 'SK_Watson.tif', 'QC_Gaspe1Et2.tif', 'SK_Borden_C1.gpkg', 'SK_Weyburn_C1.gpkg', 'SK_Maple_Creek.tif.aux.xml', 'SK_Wadena.tif.aux.xml', 'SK_Regina.tif.aux.xml', 'NS_EastHantsSackvilleRiver.tif.aux.xml', 'ON_Mississauga.tif', 'QC_Bromont.tif.aux.xml', 'SK_FoamLake.tif', 'NS_MargareeRiver.tif.aux.xml', 'Hamilton_Niagara_WellandLyonsSingers.tif', 'QC_MontrealRiveSud_E_C1.gpkg', 'SK_Wadena_C1.gpkg', 'QC_Plessisville_C1.gpkg', 'QC_Quebec_Levis_C1.gpkg', 'NF_StJohns_C1.gpkg', 'NF_Shearstown.tif.aux.xml', 'NS_MargareeRiver_C1.gpkg', 'Hamilton_Niagara_WellandLyonsSingers.tif.aux.xml', 'SK_Regina_C1.gpkg', 'SK_Tisdale.tif', 'NS_EastKentville.tif', 'ON_Mississauga.tif.aux.xml', 'Hamilton_RichardsonFrancisWalkerCreek.tif', 'SK_Yorkton.tif', 'QC_Bromont_C1.gpkg', 'Ottawa_Gatineau_CardinalBillberryBeckettsOttawa.tif.aux.xml', 'Hamilton_RichardsonFrancisWalkerCreek_C1.gpkg', 'NS_EastKentville_C1.gpkg', 'CA_Lethbridge_C1.gpkg', 'QC_Plessisville.tif.aux.xml', 'NL_Churchill_C1.gpkg', 'QC_Gaspe1Et2.tif.aux.xml', 'NF_Shearstown.tif'] \n",
      "F in file QC_MontrealRiveSud_O.tif.aux.xml \n",
      "F in file NL_Exploits_C1.gpkg \n",
      "F in file QC_Quebec.tif.aux.xml \n",
      "F in file Hamilton_RichardsonFrancisWalkerCreek.tif.aux.xml \n",
      "F in file Ottawa_Gatineau_RideauMudBuckels_C1.gpkg \n",
      "F in file SK_Yorkton.tif.aux.xml \n",
      "F in file QC_Sherbrooke.tif.aux.xml \n",
      "F in file QC_Quebec_Levis.tif.aux.xml \n",
      "F in file QC_Abitibi_LaSarre_Subset.tif.aux.xml \n",
      "F in file SK_Regina.tif \n",
      "F in file Ottawa_Gatineau_VilleGatineau.tif.aux.xml \n",
      "F in file SK_Wolseley.tif \n",
      "F in file Hamilton_Niagara_WingnellEagleBearsBeaver.tif.aux.xml \n",
      "F in file SK_Watson.tif.aux.xml \n",
      "F in file NL_Exploits.tif \n",
      "F in file SK_Wolseley.tif.aux.xml \n",
      "F in file SK_FoamLake.tif.aux.xml \n",
      "F in file QC_MontrealRiveSud_O_C1.gpkg \n",
      "F in file QC_Gaspe1Et2_C1.gpkg \n",
      "F in file QC_MontrealRiveSud_E.tif.aux.xml \n",
      "F in file QC_Quebec_Levis.tif \n",
      "F in file QC_Quebec.tif \n",
      "F in file Hamilton_Niagara_WingnellEagleBearsBeaver.xml \n",
      "F in file SK_Yorkton_C1.gpkg \n",
      "F in file QC_RiviereBonaventure_C1.gpkg \n",
      "F in file SK_Borden.tif \n",
      "F in file SK_Watson_C1.gpkg \n",
      "F in file NS_EastHantsSackvilleRiver_C1.gpkg \n",
      "F in file NL_Churchill.tif.aux.xml \n",
      "F in file QC_RiviereBonaventure.tif \n",
      "F in file QC_Bromont.tif \n",
      "F in file QC_MontrealRiveSud_E.tif \n",
      "F in file Ottawa_Gatineau_FlowingNicholsHobbsKing.tif.aux.xml \n",
      "F in file CA_Lethbridge.tif.aux.xml \n",
      "F in file ON_Mississauga_C1.gpkg \n",
      "F in file Hamilton_Niagara_WingnellEagleBearsBeaver.tif \n",
      "F in file QC_MontrealRiveSud_O.tif \n",
      "F in file QC_Quebec_C1.gpkg \n",
      "F in file Ottawa_Gatineau_RideauMudBuckels.tif \n",
      "F in file SK_Moose_Jaw.tif.aux.xml \n",
      "F in file Ottawa_Gatineau_FlowingNicholsHobbsKing.tif \n",
      "F in file QC_Plessisville.tif \n",
      "F in file SK_Tisdale.tif.aux.xml \n",
      "F in file NF_Shearstown_C1.gpkg \n",
      "F in file SK_Borden.tif.aux.xml \n",
      "F in file NL_Exploits.tif.aux.xml \n",
      "F in file QC_RiviereBonaventure.tif.aux.xml \n",
      "F in file SK_Maple_Creek_C1.gpkg \n",
      "F in file SK_Moose_Jaw.tif \n",
      "F in file NF_StJohns.tif.aux.xml \n",
      "F in file SK_FoamLake_C1.gpkg \n",
      "F in file QC_Sherbrooke_C1.gpkg \n",
      "F in file Ottawa_Gatineau_RideauMudBuckels.tif.aux.xml \n",
      "F in file NS_MargareeRiver.tif \n",
      "F in file SK_Wolseley_C1.gpkg \n",
      "F in file SK_Maple_Creek.tif \n",
      "F in file QC_Sherbrooke.tif \n",
      "F in file QC_Abitibi_LaSarre_Subset.tif \n",
      "F in file NS_EastHantsSackvilleRiver.tif \n",
      "F in file CA_Lethbridge.tif \n",
      "F in file SK_Weyburn.tif \n",
      "F in file Hamilton_Niagara_WellandLyonsSingers_C1.gpkg \n",
      "F in file SK_Tisdale_C1.gpkg \n",
      "F in file Ottawa_Gatineau_CardinalBillberryBeckettsOttawa.tif \n",
      "F in file NF_StJohns.tif \n",
      "F in file SK_Wadena.tif \n",
      "F in file Ottawa_Gatineau_VilleGatineau.tif \n",
      "F in file Ottawa_Gatineau_FlowingNicholsHobbsKing_C1.gpkg \n",
      "F in file QC_Abitibi_LaSarre_Subset_C1.gpkg \n",
      "F in file SK_Weyburn.tif.aux.xml \n",
      "F in file NL_Churchill.tif \n",
      "F in file SK_Moose_Jaw_C1.gpkg \n",
      "F in file Hamilton_Niagara_WingnellEagleBearsBeaver_C1.gpkg \n",
      "F in file Ottawa_Gatineau_CardinalBillberryBeckettsOttawa_C1.gpkg \n",
      "F in file NS_EastKentville.tif.aux.xml \n",
      "F in file Ottawa_Gatineau_VilleGatineau_C1.gpkg \n",
      "F in file SK_Watson.tif \n",
      "F in file QC_Gaspe1Et2.tif \n",
      "F in file SK_Borden_C1.gpkg \n",
      "F in file SK_Weyburn_C1.gpkg \n",
      "F in file SK_Maple_Creek.tif.aux.xml \n",
      "F in file SK_Wadena.tif.aux.xml \n",
      "F in file SK_Regina.tif.aux.xml \n",
      "F in file NS_EastHantsSackvilleRiver.tif.aux.xml \n",
      "F in file ON_Mississauga.tif \n",
      "F in file QC_Bromont.tif.aux.xml \n",
      "F in file SK_FoamLake.tif \n",
      "F in file NS_MargareeRiver.tif.aux.xml \n",
      "F in file Hamilton_Niagara_WellandLyonsSingers.tif \n",
      "F in file QC_MontrealRiveSud_E_C1.gpkg \n",
      "F in file SK_Wadena_C1.gpkg \n",
      "F in file QC_Plessisville_C1.gpkg \n",
      "F in file QC_Quebec_Levis_C1.gpkg \n",
      "F in file NF_StJohns_C1.gpkg \n",
      "F in file NF_Shearstown.tif.aux.xml \n",
      "F in file NS_MargareeRiver_C1.gpkg \n",
      "F in file Hamilton_Niagara_WellandLyonsSingers.tif.aux.xml \n",
      "F in file SK_Regina_C1.gpkg \n",
      "F in file SK_Tisdale.tif \n",
      "F in file NS_EastKentville.tif \n",
      "F in file ON_Mississauga.tif.aux.xml \n",
      "F in file Hamilton_RichardsonFrancisWalkerCreek.tif \n",
      "F in file SK_Yorkton.tif \n",
      "F in file QC_Bromont_C1.gpkg \n",
      "F in file Ottawa_Gatineau_CardinalBillberryBeckettsOttawa.tif.aux.xml \n",
      "F in file Hamilton_RichardsonFrancisWalkerCreek_C1.gpkg \n",
      "F in file NS_EastKentville_C1.gpkg \n",
      "F in file CA_Lethbridge_C1.gpkg \n",
      "F in file QC_Plessisville.tif.aux.xml \n",
      "F in file NL_Churchill_C1.gpkg \n",
      "F in file QC_Gaspe1Et2.tif.aux.xml \n",
      "F in file NF_Shearstown.tif \n",
      "['/home/abfernan/CrossCanFloodMap/DatasetCNNFlood/RawData/Class1/SK_Regina.tif,/home/abfernan/CrossCanFloodMap/DatasetCNNFlood/RawData/Class1/SK_Regina_C1.gpkg,trn', '/home/abfernan/CrossCanFloodMap/DatasetCNNFlood/RawData/Class1/SK_Wolseley.tif,/home/abfernan/CrossCanFloodMap/DatasetCNNFlood/RawData/Class1/SK_Wolseley_C1.gpkg,trn', '/home/abfernan/CrossCanFloodMap/DatasetCNNFlood/RawData/Class1/NL_Exploits.tif,/home/abfernan/CrossCanFloodMap/DatasetCNNFlood/RawData/Class1/NL_Exploits_C1.gpkg,trn', '/home/abfernan/CrossCanFloodMap/DatasetCNNFlood/RawData/Class1/QC_Quebec_Levis.tif,/home/abfernan/CrossCanFloodMap/DatasetCNNFlood/RawData/Class1/QC_Quebec_Levis_C1.gpkg,trn', '/home/abfernan/CrossCanFloodMap/DatasetCNNFlood/RawData/Class1/QC_Quebec.tif,/home/abfernan/CrossCanFloodMap/DatasetCNNFlood/RawData/Class1/QC_Quebec_C1.gpkg,trn', '/home/abfernan/CrossCanFloodMap/DatasetCNNFlood/RawData/Class1/QC_Quebec.tif,/home/abfernan/CrossCanFloodMap/DatasetCNNFlood/RawData/Class1/QC_Quebec_Levis_C1.gpkg,trn', '/home/abfernan/CrossCanFloodMap/DatasetCNNFlood/RawData/Class1/SK_Borden.tif,/home/abfernan/CrossCanFloodMap/DatasetCNNFlood/RawData/Class1/SK_Borden_C1.gpkg,trn', '/home/abfernan/CrossCanFloodMap/DatasetCNNFlood/RawData/Class1/QC_RiviereBonaventure.tif,/home/abfernan/CrossCanFloodMap/DatasetCNNFlood/RawData/Class1/QC_RiviereBonaventure_C1.gpkg,trn', '/home/abfernan/CrossCanFloodMap/DatasetCNNFlood/RawData/Class1/QC_Bromont.tif,/home/abfernan/CrossCanFloodMap/DatasetCNNFlood/RawData/Class1/QC_Bromont_C1.gpkg,trn', '/home/abfernan/CrossCanFloodMap/DatasetCNNFlood/RawData/Class1/QC_MontrealRiveSud_E.tif,/home/abfernan/CrossCanFloodMap/DatasetCNNFlood/RawData/Class1/QC_MontrealRiveSud_E_C1.gpkg,trn', '/home/abfernan/CrossCanFloodMap/DatasetCNNFlood/RawData/Class1/Hamilton_Niagara_WingnellEagleBearsBeaver.tif,/home/abfernan/CrossCanFloodMap/DatasetCNNFlood/RawData/Class1/Hamilton_Niagara_WingnellEagleBearsBeaver_C1.gpkg,trn', '/home/abfernan/CrossCanFloodMap/DatasetCNNFlood/RawData/Class1/QC_MontrealRiveSud_O.tif,/home/abfernan/CrossCanFloodMap/DatasetCNNFlood/RawData/Class1/QC_MontrealRiveSud_O_C1.gpkg,trn', '/home/abfernan/CrossCanFloodMap/DatasetCNNFlood/RawData/Class1/Ottawa_Gatineau_RideauMudBuckels.tif,/home/abfernan/CrossCanFloodMap/DatasetCNNFlood/RawData/Class1/Ottawa_Gatineau_RideauMudBuckels_C1.gpkg,trn', '/home/abfernan/CrossCanFloodMap/DatasetCNNFlood/RawData/Class1/Ottawa_Gatineau_FlowingNicholsHobbsKing.tif,/home/abfernan/CrossCanFloodMap/DatasetCNNFlood/RawData/Class1/Ottawa_Gatineau_FlowingNicholsHobbsKing_C1.gpkg,trn', '/home/abfernan/CrossCanFloodMap/DatasetCNNFlood/RawData/Class1/QC_Plessisville.tif,/home/abfernan/CrossCanFloodMap/DatasetCNNFlood/RawData/Class1/QC_Plessisville_C1.gpkg,trn', '/home/abfernan/CrossCanFloodMap/DatasetCNNFlood/RawData/Class1/SK_Moose_Jaw.tif,/home/abfernan/CrossCanFloodMap/DatasetCNNFlood/RawData/Class1/SK_Moose_Jaw_C1.gpkg,trn', '/home/abfernan/CrossCanFloodMap/DatasetCNNFlood/RawData/Class1/NS_MargareeRiver.tif,/home/abfernan/CrossCanFloodMap/DatasetCNNFlood/RawData/Class1/NS_MargareeRiver_C1.gpkg,trn', '/home/abfernan/CrossCanFloodMap/DatasetCNNFlood/RawData/Class1/SK_Maple_Creek.tif,/home/abfernan/CrossCanFloodMap/DatasetCNNFlood/RawData/Class1/SK_Maple_Creek_C1.gpkg,trn', '/home/abfernan/CrossCanFloodMap/DatasetCNNFlood/RawData/Class1/QC_Sherbrooke.tif,/home/abfernan/CrossCanFloodMap/DatasetCNNFlood/RawData/Class1/QC_Sherbrooke_C1.gpkg,trn', '/home/abfernan/CrossCanFloodMap/DatasetCNNFlood/RawData/Class1/QC_Abitibi_LaSarre_Subset.tif,/home/abfernan/CrossCanFloodMap/DatasetCNNFlood/RawData/Class1/QC_Abitibi_LaSarre_Subset_C1.gpkg,trn', '/home/abfernan/CrossCanFloodMap/DatasetCNNFlood/RawData/Class1/NS_EastHantsSackvilleRiver.tif,/home/abfernan/CrossCanFloodMap/DatasetCNNFlood/RawData/Class1/NS_EastHantsSackvilleRiver_C1.gpkg,trn', '/home/abfernan/CrossCanFloodMap/DatasetCNNFlood/RawData/Class1/CA_Lethbridge.tif,/home/abfernan/CrossCanFloodMap/DatasetCNNFlood/RawData/Class1/CA_Lethbridge_C1.gpkg,trn', '/home/abfernan/CrossCanFloodMap/DatasetCNNFlood/RawData/Class1/SK_Weyburn.tif,/home/abfernan/CrossCanFloodMap/DatasetCNNFlood/RawData/Class1/SK_Weyburn_C1.gpkg,trn', '/home/abfernan/CrossCanFloodMap/DatasetCNNFlood/RawData/Class1/Ottawa_Gatineau_CardinalBillberryBeckettsOttawa.tif,/home/abfernan/CrossCanFloodMap/DatasetCNNFlood/RawData/Class1/Ottawa_Gatineau_CardinalBillberryBeckettsOttawa_C1.gpkg,trn', '/home/abfernan/CrossCanFloodMap/DatasetCNNFlood/RawData/Class1/NF_StJohns.tif,/home/abfernan/CrossCanFloodMap/DatasetCNNFlood/RawData/Class1/NF_StJohns_C1.gpkg,trn', '/home/abfernan/CrossCanFloodMap/DatasetCNNFlood/RawData/Class1/SK_Wadena.tif,/home/abfernan/CrossCanFloodMap/DatasetCNNFlood/RawData/Class1/SK_Wadena_C1.gpkg,trn', '/home/abfernan/CrossCanFloodMap/DatasetCNNFlood/RawData/Class1/Ottawa_Gatineau_VilleGatineau.tif,/home/abfernan/CrossCanFloodMap/DatasetCNNFlood/RawData/Class1/Ottawa_Gatineau_VilleGatineau_C1.gpkg,trn', '/home/abfernan/CrossCanFloodMap/DatasetCNNFlood/RawData/Class1/NL_Churchill.tif,/home/abfernan/CrossCanFloodMap/DatasetCNNFlood/RawData/Class1/NL_Churchill_C1.gpkg,trn', '/home/abfernan/CrossCanFloodMap/DatasetCNNFlood/RawData/Class1/SK_Watson.tif,/home/abfernan/CrossCanFloodMap/DatasetCNNFlood/RawData/Class1/SK_Watson_C1.gpkg,trn', '/home/abfernan/CrossCanFloodMap/DatasetCNNFlood/RawData/Class1/QC_Gaspe1Et2.tif,/home/abfernan/CrossCanFloodMap/DatasetCNNFlood/RawData/Class1/QC_Gaspe1Et2_C1.gpkg,trn', '/home/abfernan/CrossCanFloodMap/DatasetCNNFlood/RawData/Class1/ON_Mississauga.tif,/home/abfernan/CrossCanFloodMap/DatasetCNNFlood/RawData/Class1/ON_Mississauga_C1.gpkg,trn', '/home/abfernan/CrossCanFloodMap/DatasetCNNFlood/RawData/Class1/SK_FoamLake.tif,/home/abfernan/CrossCanFloodMap/DatasetCNNFlood/RawData/Class1/SK_FoamLake_C1.gpkg,trn', '/home/abfernan/CrossCanFloodMap/DatasetCNNFlood/RawData/Class1/Hamilton_Niagara_WellandLyonsSingers.tif,/home/abfernan/CrossCanFloodMap/DatasetCNNFlood/RawData/Class1/Hamilton_Niagara_WellandLyonsSingers_C1.gpkg,trn', '/home/abfernan/CrossCanFloodMap/DatasetCNNFlood/RawData/Class1/SK_Tisdale.tif,/home/abfernan/CrossCanFloodMap/DatasetCNNFlood/RawData/Class1/SK_Tisdale_C1.gpkg,trn', '/home/abfernan/CrossCanFloodMap/DatasetCNNFlood/RawData/Class1/NS_EastKentville.tif,/home/abfernan/CrossCanFloodMap/DatasetCNNFlood/RawData/Class1/NS_EastKentville_C1.gpkg,trn', '/home/abfernan/CrossCanFloodMap/DatasetCNNFlood/RawData/Class1/Hamilton_RichardsonFrancisWalkerCreek.tif,/home/abfernan/CrossCanFloodMap/DatasetCNNFlood/RawData/Class1/Hamilton_RichardsonFrancisWalkerCreek_C1.gpkg,trn', '/home/abfernan/CrossCanFloodMap/DatasetCNNFlood/RawData/Class1/SK_Yorkton.tif,/home/abfernan/CrossCanFloodMap/DatasetCNNFlood/RawData/Class1/SK_Yorkton_C1.gpkg,trn', '/home/abfernan/CrossCanFloodMap/DatasetCNNFlood/RawData/Class1/NF_Shearstown.tif,/home/abfernan/CrossCanFloodMap/DatasetCNNFlood/RawData/Class1/NF_Shearstown_C1.gpkg,trn']\n"
     ]
    }
   ],
   "source": [
    "filesPath = os.path.join('/home/abfernan/CrossCanFloodMap/DatasetCNNFlood/RawData/Class1/') \n",
    "pairImgMaskList = U.makeTifGpkgPairsList(filesPath)\n",
    "print(pairImgMaskList)\n",
    "csvPath = r'C:\\Users\\abfernan\\CrossCanFloodMapping\\DatasetCNNFlood\\RawData\\Class1RawDataVelum.csv'\n",
    "U.createCSVFromList(csvPath,pairImgMaskList)"
   ]
  },
  {
   "cell_type": "markdown",
   "metadata": {},
   "source": [
    "# Sampling\n",
    "For sampling we consider all patches target as training \"trn\". Sinse all regions are toguether, to ensure representativity into the test set, the samping is made by region in proportions of 90% training and 10 % test by default."
   ]
  },
  {
   "cell_type": "code",
   "execution_count": null,
   "metadata": {
    "scrolled": false
   },
   "outputs": [],
   "source": [
    "# enter the *.csv containing all pairs image-mask \\\n",
    "csv = r'C:\\Users\\abfernan\\CrossCanFloodMapping\\DatasetCNNFlood\\C1Dataset\\Percentage_1\\Percentage_1_feat1_min-annot5_trn.csv'\n",
    "\n",
    "def splitPerRegion(csvPath, tstFrac:float = .9):\n",
    "    tifList = U.createListFromCSVColumn(csvPath,0,delim=';')\n",
    "    lenTifList = len(tifList)\n",
    "    print(\"Total samples >>\", len(tifList))\n",
    "    parent,name,ext = U.get_parenPath_name_ext(tifList[0])\n",
    "    start = parent\n",
    "    regionCounter = 0\n",
    "    lastParent,_,_ = U.get_parenPath_name_ext(tifList[-1])\n",
    "    allPath = []\n",
    "    trn = []\n",
    "    tst = []\n",
    "    i = 0\n",
    "    cumulative = 0 \n",
    "    while start == parent:\n",
    "        parent,_,_ = U.get_parenPath_name_ext(tifList[i])\n",
    "        if start != parent:\n",
    "            regionCounter+=1\n",
    "            trnToAdd, tstToAdd = distrubutePathInTrnTst(allPath,tstFrac)\n",
    "            trn.extend(trnToAdd)\n",
    "            tst.extend(tstToAdd)\n",
    "            print(f\"Training set evolution : {len(trn)} vs Teste set {len(tst)} >> Total {len(trn)+len(tst)}\")\n",
    "            print(\"_____________________________\")\n",
    "            start = parent\n",
    "            allPath = []\n",
    "            if start == lastParent:\n",
    "                regionCounter+=1\n",
    "                allPath = tifList[i:-1]\n",
    "                trnToAdd, tstToAdd = distrubutePathInTrnTst(allPath,tstFrac)\n",
    "                trn.extend(trnToAdd)\n",
    "                tst.extend(tstToAdd)\n",
    "                print(f\"Training set evolution : {len(trn)} vs Teste set {len(tst)} >> Total {len(trn)+len(tst)}\")\n",
    "                print(f\"We sampled {regionCounter} regions\")\n",
    "                print('The end')\n",
    "                break\n",
    "            continue \n",
    "        allPath.append(tifList[i])\n",
    "        i +=1\n",
    "    return trn,tst\n",
    "\n",
    "def distrubutePathInTrnTst(allPath,trnPercent):\n",
    "    trnPErcent = int(len(allPath)*.9)\n",
    "    srandomSamples = U.randomSamplingFromList(allPath,trnPErcent) \n",
    "    trn, tst = [],[]\n",
    "    for item in srandomSamples:\n",
    "        trn.append(allPath.pop(allPath.index(item)))\n",
    "    tst = allPath\n",
    "    return trn,tst\n",
    "\n",
    "trainList, testList = splitPerRegion(csv)"
   ]
  },
  {
   "cell_type": "markdown",
   "metadata": {},
   "source": [
    "# Verifying data agmentation"
   ]
  },
  {
   "cell_type": "code",
   "execution_count": null,
   "metadata": {},
   "outputs": [],
   "source": [
    "print(listPath)"
   ]
  },
  {
   "cell_type": "code",
   "execution_count": null,
   "metadata": {},
   "outputs": [],
   "source": [
    "### Transfer images by copy  ( OK )\n",
    "img_list, mask_list = D.createImageMaskList(scvPath)\n",
    "for i, m in zip(img_list, mask_list):\n",
    "    U.makeFileCopy(i,saveImgDir)\n",
    "    U.makeFileCopy(m,saveMaskDir)"
   ]
  },
  {
   "cell_type": "code",
   "execution_count": null,
   "metadata": {},
   "outputs": [],
   "source": [
    "from rasterio.plot import show\n",
    "saveDir = r'C:\\Users\\abfernan\\CrossCanFloodMapping\\DatasetCNNFlood\\C1Dataset\\template_project\\val\\Rotated'\n",
    "scvPath = r'C:\\Users\\abfernan\\CrossCanFloodMapping\\DatasetCNNFlood\\C1Dataset\\template_project\\val\\listToTransform.csv'\n",
    "img, mask = fullSet.__getitem__(3)\n",
    "print(type(img))\n",
    "# show(img)\n",
    "# show(mask)"
   ]
  },
  {
   "cell_type": "markdown",
   "metadata": {},
   "source": [
    "## In data agmentation- Make permanent transformations.\n",
    "The permanent transformation is applied to the final trainig set. "
   ]
  },
  {
   "cell_type": "code",
   "execution_count": null,
   "metadata": {},
   "outputs": [],
   "source": [
    "scvPath = r'C:\\Users\\abfernan\\CrossCanFloodMapping\\DatasetCNNFlood\\C1Dataset\\Percentage_1\\Percentage_1_feat1_min-annot5_trn.csv'\n",
    "Dir = r'C:\\Users\\abfernan\\CrossCanFloodMapping\\DatasetCNNFlood\\C1Dataset\\Percentage_1\\trn\\TransformedRot180'\n",
    "D.offlineTransformation(scvPath, Dir)\n",
    "\n",
    "#NOTE: The first element in the scv list must be remouved. NO idea Why. \n"
   ]
  },
  {
   "cell_type": "markdown",
   "metadata": {},
   "source": [
    "# Testing train cycle  ( OK )"
   ]
  },
  {
   "cell_type": "code",
   "execution_count": null,
   "metadata": {},
   "outputs": [],
   "source": [
    "datalistPath = r'C:\\Users\\abfernan\\CrossCanFloodMapping\\DatasetCNNFlood\\C1Dataset\\Percentage_1\\Percentage_1_feat1_min-annot5_trn_PlussRotated.csv'\n",
    "\n",
    "# NOTE: We need to put r in front of the string, to denote raw string. Otherwise,'_' character will truncate the string \n",
    "args = {'batch_size': 1, 'num_workers': 4,'drop_last': True}\n",
    "\n",
    "fullSet = D.customDataSet(datalistPath)\n",
    "# img,mask=fullSet.__getitem__()\n",
    "trainSet, valSet = D.splitDataset(fullSet)\n",
    "print(f\"Dataset lens : train: {trainSet.__len__()} :-- valSet: {valSet.__len__()}\")\n",
    "\n",
    "train_set = D.customDataloader(trainSet,args)  #.getDataloader()     \n",
    "val_set = D.customDataloader(valSet,args)  #.getDataloader()\n",
    "# rasterPath = '/Users/abdielfer/RNCanWork/GDLData/TestTiling/template_project/trn/VilleGatineau-1/images/'"
   ]
  },
  {
   "cell_type": "code",
   "execution_count": null,
   "metadata": {},
   "outputs": [],
   "source": [
    "model = UNetFlood(1,1)\n",
    "# loss_fn = nn.CrossEntropyLoss() if model.classes > 1 else nn.BCEWithLogitsLoss()\n",
    "loss_fn = L.lovasz_hinge\n",
    "\n",
    "optimizer = Adam(model.parameters(), lr = 0.001) #SGD(model.parameters(), lr=0.001, momentum=0.9)##  \n",
    "\n",
    "trainer = models_trainer.models_trainer(model,loss_fn,optimizer, iou_binary)\n",
    "trainer.set_loaders(train_set,val_set)"
   ]
  },
  {
   "cell_type": "code",
   "execution_count": null,
   "metadata": {},
   "outputs": [],
   "source": [
    "with U.timeit():\n",
    "    trainer.train(20)"
   ]
  },
  {
   "cell_type": "code",
   "execution_count": null,
   "metadata": {},
   "outputs": [],
   "source": [
    "# trainer.load_checkpoint('2304061151')\n",
    "id = U.makeNameByTime()\n",
    "U.saveModel(model, id)"
   ]
  },
  {
   "cell_type": "code",
   "execution_count": null,
   "metadata": {},
   "outputs": [],
   "source": [
    "trainer.save_checkpoint(id)"
   ]
  },
  {
   "cell_type": "markdown",
   "metadata": {},
   "source": [
    "# Testing metric computation (OK)"
   ]
  },
  {
   "cell_type": "code",
   "execution_count": null,
   "metadata": {},
   "outputs": [],
   "source": [
    "from torch.nn.functional import sigmoid\n",
    "import matplotlib.pyplot as plt\n",
    "\n",
    "def _computeMetricPerMiniBatch(data_loader, metric_fn, model):\n",
    "        '''\n",
    "        Return de mean per batch of the metric in self.metric  \n",
    "        '''\n",
    "        metrics = []\n",
    "        miniBathcMetric = []\n",
    "        for x_batch, y_batch in data_loader:\n",
    "            metric=[]\n",
    "            print(f\"Batch = {i}\")\n",
    "            i+=1\n",
    "            for x,y in zip(x_batch, y_batch):\n",
    "                yHat = model(torch.unsqueeze(x,0))\n",
    "                y_hat_sigmoid = torch.round(sigmoid(yHat)).to(torch.int32)\n",
    "                y_item= y.numpy() if torch.is_tensor(y) else y.numpy().squeeze()\n",
    "                y_hat_item = y_hat_sigmoid.detach().numpy().squeeze() if torch.is_tensor(y_hat_sigmoid) else y_hat_sigmoid.numpy().squeeze()\n",
    "                metricPerImage = metric_fn(y_hat_item, y_item)\n",
    "                metric.append(metricPerImage)    \n",
    "            ItemMetric = Average(metric)\n",
    "            miniBathcMetric.append(ItemMetric)\n",
    "        metricMean = Average(miniBathcMetric)\n",
    "        return metricMean\n",
    "\n",
    "def plotImageAndMask(img, img1,mask,imgName:str='Image', img1Name:str='Image1', mskName: str= 'Mask'):\n",
    "    # colList = ['Image','Mask']\n",
    "    image = img.detach().numpy() if torch.is_tensor(img) else img.numpy().squeeze()\n",
    "    image1 = img1.detach().numpy() if torch.is_tensor(img1) else img1.numpy().squeeze()\n",
    "    mask_squeezed = mask.detach().numpy() if torch.is_tensor(mask) else mask.numpy().squeeze()\n",
    "    fig, axs = plt.subplots(1,3, figsize=(10,5), sharey=True)\n",
    "    axs[0].imshow(image, cmap='Greys_r')\n",
    "    axs[0].set(xlabel= imgName)\n",
    "    axs[1].imshow(image1, cmap='Greys_r')\n",
    "    axs[1].set(xlabel= img1Name)\n",
    "    axs[2].imshow(mask_squeezed, cmap='Greys_r')\n",
    "    axs[2].set(xlabel= mskName)\n",
    "    plt.rcParams['font.size'] = '15'\n",
    "    fig.tight_layout()\n",
    "   \n",
    "def Average(lst):\n",
    "    ave = sum(lst) / len(lst)\n",
    "    return round(ave,2)"
   ]
  },
  {
   "cell_type": "code",
   "execution_count": null,
   "metadata": {},
   "outputs": [],
   "source": [
    "metric_fn = L.iou_binary\n",
    "model = trainer.getModel()\n",
    "with torch.no_grad():\n",
    "    metric = _computeMetricPerMiniBatch(val_set, metric_fn, model)"
   ]
  },
  {
   "cell_type": "code",
   "execution_count": null,
   "metadata": {},
   "outputs": [],
   "source": [
    "print(F\"Final matric value {metric}\")"
   ]
  },
  {
   "cell_type": "code",
   "execution_count": null,
   "metadata": {},
   "outputs": [],
   "source": [
    "item = next(iter(val_set))\n",
    "imag = item[0]\n",
    "mask = item[1]\n",
    "print('image to model input shape',imag.shape)\n",
    "\n",
    "model.eval()\n",
    "Y_hat = model(imag)\n",
    "print('Y_hat to model input shape',Y_hat.shape)\n",
    "model.train()\n"
   ]
  },
  {
   "cell_type": "code",
   "execution_count": null,
   "metadata": {},
   "outputs": [],
   "source": [
    "for i in range(0,imag.shape[0]):\n",
    "    U.plotImageAndMask(Y_hat[i][0], mask[i][0])\n"
   ]
  },
  {
   "cell_type": "code",
   "execution_count": null,
   "metadata": {},
   "outputs": [],
   "source": [
    "##  Works well!\n",
    "# Testing util.makePredictionRaster() for inference.\n",
    "inToInfer,_ = U.readRaster(rasterPath)\n",
    "\n",
    "imgToInferTensor = U.imageToTensor(inToInfer)\n",
    "print(\"imgToInferTensor shape: ----\", imgToInferTensor.shape)\n",
    "out = U.makePredictionRaster(rasterPath, model,saveRaster=True)\n",
    "print('out shape: _____ ',out.shape)\n"
   ]
  },
  {
   "cell_type": "markdown",
   "metadata": {},
   "source": [
    "## Testing IoU in modified mask (OK)"
   ]
  },
  {
   "cell_type": "code",
   "execution_count": null,
   "metadata": {},
   "outputs": [],
   "source": [
    "#test IoU\n",
    "# Modified mask: righ up corner have been removed from real mask in QGIS. Both share CRS, resolution, ect. \n",
    "parentDir = r'C:\\Users\\abfernan\\CrossCanFloodMapping\\RawData\\SyntheticPredictionandMask'\n",
    "realMask = 'mask1.tif'\n",
    "modifiedMask = 'SintheticGT1_1.tif'\n",
    "\n",
    "maskPath = os.path.join(parentDir,realMask)\n",
    "gtPath = os.path.join(parentDir, modifiedMask)\n",
    "print(maskPath, gtPath)\n",
    "\n",
    "real,_ = U.readRaster(maskPath)\n",
    "modified,_ = U.readRaster(gtPath)\n",
    "\n",
    "ioUB = iou_binary(real,modified)\n",
    "print(f\"iou_binary : {ioUB}\")\n",
    "\n",
    "realTensor = U.imageToTensor(real)\n",
    "modifiedTensor = U.imageToTensor(modified)\n",
    "\n",
    "print(f\"binaryAccuracy : {binaryAccuracy(realTensor,modifiedTensor)}\")\n",
    "\n",
    "U.plotImageAndMask(U.imageToTensor(real)[0],U.imageToTensor(modified)[0],'original mask','modified mask')\n",
    "\n",
    "#  OUTPUT = 87,987% iou, is a good representation of mask differences. "
   ]
  },
  {
   "cell_type": "code",
   "execution_count": null,
   "metadata": {},
   "outputs": [],
   "source": [
    "U.plotImageAndMask(imgToInferTensor[0],rasterData[0])"
   ]
  },
  {
   "cell_type": "code",
   "execution_count": null,
   "metadata": {},
   "outputs": [],
   "source": [
    "import torch as T\n",
    "from torch.autograd import Variable"
   ]
  },
  {
   "cell_type": "code",
   "execution_count": null,
   "metadata": {},
   "outputs": [],
   "source": [
    "flated = Y_hat[0][0].view(-1)\n",
    "signs = 2. * Y_hat[0][0].float() - 1.\n",
    "# print(Y_hat[0][0][0:20,340:350])\n",
    "# print('signe : ____',signs[0:20,340:350])\n",
    "# print(signs.shape)\n",
    "zerosAndOnes = torch.where(signs==-1,torch.tensor(0),signs)\n",
    "# print(zerosAndOnes[0:20,340:350])\n",
    "errors = (1. - Y_hat[0][0] * Variable(signs))\n",
    "U.plotImageAndMask(Y_hat[0][0], zerosAndOnes)\n",
    "ioUB = L.iou_binary(zerosAndOnes,zerosAndOnes, per_image=False)\n",
    "print(ioUB)"
   ]
  },
  {
   "cell_type": "code",
   "execution_count": null,
   "metadata": {},
   "outputs": [],
   "source": [
    "####   Apply sigmoid to the output image to compare with Mask...IMportant!!!!\n",
    "y_hatSigmoided = torch.sigmoid(Y_hat[0][0])\n",
    "U.plotImageAndMask(y_hatSigmoided, mask[0][0])"
   ]
  },
  {
   "cell_type": "code",
   "execution_count": null,
   "metadata": {},
   "outputs": [],
   "source": [
    "### Visualize all batch image-mask pairs. \n",
    "# NOTE :   img, mask = next(iter(train_set))\n",
    "i = 0\n",
    "j = 0\n",
    "for batch in train_set:\n",
    "    for item in batch:\n",
    "        print(f\"Bathc {i}, item {j}\")\n",
    "        print('item',item.shape)\n",
    "        j +=1\n",
    "        \n",
    "    # U.plotImageAndMask(batch[0][0],batch[1][0])\n",
    "    i+=1\n",
    "    j=0  \n",
    "    print(\"_______\") \n"
   ]
  },
  {
   "cell_type": "markdown",
   "metadata": {},
   "source": [
    "# Things to test: \n",
    "## Image visualization."
   ]
  },
  {
   "cell_type": "code",
   "execution_count": null,
   "metadata": {},
   "outputs": [],
   "source": [
    "## Ref: \n",
    "\n",
    "from typing import Iterable, List\n",
    "import torch\n",
    "import matplotlib.pyplot as plt\n",
    "\n",
    "def plot_imgs(images: Iterable, axs: Iterable, chnls: List[int] = [2, 1, 0], bright: float = 3.):\n",
    "    for img, ax in zip(images, axs):\n",
    "        arr = torch.clamp(bright * img, min=0, max=1).numpy()\n",
    "        rgb = arr.transpose(1, 2, 0)[:, :, chnls]\n",
    "        ax.imshow(rgb)\n",
    "        ax.axis('off')\n",
    "\n",
    "\n",
    "def plot_msks(masks: Iterable, axs: Iterable):\n",
    "    for mask, ax in zip(masks, axs):\n",
    "        ax.imshow(mask.squeeze().numpy(), cmap='gray')\n",
    "        ax.axis('off')\n",
    "\n",
    "def plot_batch(batch: dict, bright: float = 3., cols: int = 4, width: int = 5, chnls: List[int] = [2, 1, 0]):\n",
    "\n",
    "    # Get the samples and the number of items in the batch\n",
    "    samples = unbind_samples(batch.copy())\n",
    "    \n",
    "    # if batch contains images and masks, the number of images will be doubled\n",
    "    n = 2 * len(samples) if ('image' in batch) and ('mask' in batch) else len(samples)\n",
    "\n",
    "    # calculate the number of rows in the grid\n",
    "    rows = n//cols + (1 if n%cols != 0 else 0)\n",
    "\n",
    "    # create a grid\n",
    "    _, axs = plt.subplots(rows, cols, figsize=(cols*width, rows*width))  \n",
    "\n",
    "    if ('image' in batch) and ('mask' in batch):\n",
    "        # plot the images on the even axis\n",
    "        plot_imgs(images=map(lambda x: x['image'], samples), axs=axs.reshape(-1)[::2], chnls=chnls, bright=bright) #type: ignore\n",
    "\n",
    "        # plot the masks on the odd axis\n",
    "        plot_msks(masks=map(lambda x: x['mask'], samples), axs=axs.reshape(-1)[1::2]) #type: ignore\n",
    "\n",
    "    else:\n",
    "\n",
    "        if 'image' in batch:\n",
    "            plot_imgs(images=map(lambda x: x['image'], samples), axs=axs.reshape(-1), chnls=chnls, bright=bright) #type: ignore\n",
    "    \n",
    "        elif 'mask' in batch:\n",
    "            plot_msks(masks=map(lambda x: x['mask'], samples), axs=axs.reshape(-1)) #type: ignore"
   ]
  },
  {
   "cell_type": "code",
   "execution_count": null,
   "metadata": {},
   "outputs": [],
   "source": [
    "\n",
    "from pathlib import  Path\n",
    "import xarray as xr\n",
    "import matplotlib.pyplot as plt\n",
    "\n",
    "root = Path('dset-s2')\n",
    "assert root.exists()\n",
    "\n",
    "train_imgs = list((root/'tra_scene').glob('*.tif'))\n",
    "train_masks = list((root/'tra_truth').glob('*.tif'))\n",
    "\n",
    "# As the images and corresponding masks are matched by name, we will sort both lists to keep them synchronized.\n",
    "train_imgs.sort(); train_masks.sort()\n",
    "     \n",
    "\n",
    "idx = 0\n",
    "img = xr.open_rasterio(train_imgs[idx])\n",
    "mask = xr.open_rasterio(train_masks[idx])\n",
    "_, axs = plt.subplots(1, 2, figsize=(15, 6))\n",
    "\n",
    "# plot the tile\n",
    "rgb = img.data[[2, 1, 0]].transpose((1, 2, 0))/3000\n",
    "axs[0].imshow(rgb.clip(min=0, max=1))\n",
    "\n",
    "# plot the mask\n",
    "axs[1].imshow(mask.data.squeeze(), cmap='Blues')"
   ]
  },
  {
   "cell_type": "markdown",
   "metadata": {},
   "source": [
    "# Cleaning sampling from GDL.  (OK)\n",
    "### GDL sampling includes images with no mask matching. In this section we remove unnecessary files.  "
   ]
  },
  {
   "cell_type": "code",
   "execution_count": null,
   "metadata": {},
   "outputs": [],
   "source": [
    "# 1-recorrer el directorio y crear lista de todos los *.tif. 2-importar *.csv list of images and mask.\n",
    "# 3-compara cada nombre en la lista de *.tif con los de la lista from *.csv, 4- si no esta en la lista, borrar.\n",
    "scvPath = r'C:\\Users\\abfernan\\CrossCanFloodMapping\\DatasetCNNFlood\\C1Dataset\\Percentage_1\\Percentage_1_feat1_min-annot5_trn.csv'\n",
    "imagDir = r'C:\\Users\\abfernan\\CrossCanFloodMapping\\DatasetCNNFlood\\C1Dataset\\Percentage_1\\trn'\n",
    "Dir = r'C:\\Users\\abfernan\\CrossCanFloodMapping\\DatasetCNNFlood\\C1Dataset\\Percentage_1\\trn'\n",
    "\n",
    "# tifList = U.listALLFilesInDirByExt(Dir, ext='.tif')\n",
    "# print(f\"Jupyter Nbk All available *tif :  {len(tifList)}\")\n",
    "noMatchList = U.noMatch_TifMask_List(scvPath,imagDir,relocate = True, relocatePath = Dir)"
   ]
  },
  {
   "cell_type": "code",
   "execution_count": null,
   "metadata": {},
   "outputs": [],
   "source": [
    "imagDir = r'C:\\Users\\abfernan\\CrossCanFloodMapping\\DatasetCNNFlood\\C1Dataset\\Done\\template_project\\trn'\n",
    "tifList = U.listALLFilesInDirByExt_fullPath(imagDir, ext='.tif')"
   ]
  },
  {
   "cell_type": "code",
   "execution_count": null,
   "metadata": {},
   "outputs": [],
   "source": [
    "print(f\"tifList list len {len(tifList)}\")\n",
    "print(tifList[0])"
   ]
  },
  {
   "cell_type": "markdown",
   "metadata": {},
   "source": [
    "## Check in for Operative System  (.OK)"
   ]
  },
  {
   "cell_type": "code",
   "execution_count": null,
   "metadata": {},
   "outputs": [],
   "source": [
    "from sys import platform\n",
    "def getPlatform():\n",
    "    OPS = ''\n",
    "    if platform == \"darwin\":\n",
    "        OPS = \"mac\"\n",
    "    elif platform == \"win32\":\n",
    "        OPS = \"win\"\n",
    "    return OPS \n",
    "\n",
    "####   \n",
    "\n",
    "OPS = getPlatform()\n",
    "\n",
    "if OPS == 'mac': \n",
    "    configPath = 'config\\configMac.yaml'\n",
    "elif OPS == 'win':\n",
    "    configPath = 'config\\configPC.yaml'\n",
    "\n",
    "print(OPS)"
   ]
  }
 ],
 "metadata": {
  "kernelspec": {
   "display_name": "Python 3.10.4 ('floodProbEnv')",
   "language": "python",
   "name": "python3"
  },
  "language_info": {
   "codemirror_mode": {
    "name": "ipython",
    "version": 3
   },
   "file_extension": ".py",
   "mimetype": "text/x-python",
   "name": "python",
   "nbconvert_exporter": "python",
   "pygments_lexer": "ipython3",
   "version": "3.10.4"
  },
  "vscode": {
   "interpreter": {
    "hash": "11f83c78310818a0c6ae0b43a5d79327a506e418107ba86e7368dd35fada134d"
   }
  }
 },
 "nbformat": 4,
 "nbformat_minor": 2
}
