{
 "cells": [
  {
   "cell_type": "code",
   "execution_count": 1,
   "metadata": {},
   "outputs": [
    {
     "name": "stderr",
     "output_type": "stream",
     "text": [
      "C:\\Users\\abfernan\\.conda\\envs\\geo_deep_env\\lib\\site-packages\\torchvision\\io\\image.py:13: UserWarning: Failed to load image Python extension: [WinError 127] The specified procedure could not be found\n",
      "  warn(f\"Failed to load image Python extension: {e}\")\n"
     ]
    }
   ],
   "source": [
    "import os\n",
    "import sys\n",
    "sys.path.append('/Users/abdielfer/RNCanWork/DL4Flood/')\n",
    "from model_set.models import UNetFlood\n",
    "from scr import util as U\n",
    "from scr import dataLoader as D\n",
    "from scr import models_trainer\n",
    "from scr import losses as L\n",
    "from scr.losses import iou_binary,binaryAccuracy\n",
    "from rasterio.plot import show\n",
    "import torch\n",
    "from torch import nn\n",
    "from torch.optim import Adam, SGD\n",
    "import numpy as np"
   ]
  },
  {
   "cell_type": "markdown",
   "metadata": {},
   "source": [
    "# Building *.scv files with imag-mask pair path."
   ]
  },
  {
   "cell_type": "code",
   "execution_count": null,
   "metadata": {},
   "outputs": [],
   "source": [
    "filesPath = r'C:\\Users\\abfernan\\CrossCanFloodMapping\\DatasetCNNFlood\\RawData\\Class1'\n",
    "pairImgMaskList = U.makeTifGpkgPairsList(filesPath)\n",
    "csvPath = r'C:\\Users\\abfernan\\CrossCanFloodMapping\\DatasetCNNFlood\\RawData\\Class1RawData.csv'\n",
    "U.createCSVFromList(csvPath,pairImgMaskList)"
   ]
  },
  {
   "cell_type": "markdown",
   "metadata": {},
   "source": [
    "# Verifying data agmentation"
   ]
  },
  {
   "cell_type": "code",
   "execution_count": null,
   "metadata": {},
   "outputs": [],
   "source": [
    "from rasterio.plot import show\n",
    "maskPath = r'C:\\Users\\abfernan\\CrossCanFloodMapping\\RawData\\TestTiling\\percentage_1\\trn\\exp1\\testPermanentTransf\\mask\\ON_VilleGatineau_440125_7778218668_5037429_508255529_feat1_min-annot10.tif'\n",
    "saveMaskDir = r'C:\\Users\\abfernan\\CrossCanFloodMapping\\RawData\\TestTiling\\percentage_1\\trn\\exp1\\testPermanentTransf\\mask'\n",
    "# maskCopy = U.makeFileCopy(maskPath,saveMaskDir)\n",
    "# print(maskCopy)\n",
    "\n",
    "mask,profil = U.readRaster(maskPath)\n",
    "_,imgName,imgExt= U.get_parenPath_name_ext(maskPath)\n",
    "maskPath = os.path.join(saveMaskDir,imgName+'transf'+imgExt)\n",
    "# U.createRaster(maskPath, mask, profil)\n",
    "# show(mask)\n",
    "# rotMask = np.rot90(mask)\n",
    "# show(rotMask)"
   ]
  },
  {
   "cell_type": "code",
   "execution_count": null,
   "metadata": {},
   "outputs": [],
   "source": [
    "from rasterio.plot import show\n",
    "saveImgDir = r'C:\\Users\\abfernan\\CrossCanFloodMapping\\RawData\\TestTiling\\percentage_1\\trn\\exp1\\testPermanentTransf\\img'\n",
    "saveMaskDir = r'C:\\Users\\abfernan\\CrossCanFloodMapping\\RawData\\TestTiling\\percentage_1\\trn\\exp1\\testPermanentTransf\\mask'\n",
    "scvPath = r'C:\\Users\\abfernan\\CrossCanFloodMapping\\RawData\\TestTiling\\percentage_1\\TestPermanentTransf.csv'\n",
    "\n",
    "lastRotImag, lastRotMask = D.offlineTransformation(scvPath,saveImgDir,saveMaskDir) \n",
    "show(lastRotImag)\n",
    "show(lastRotMask)"
   ]
  },
  {
   "cell_type": "code",
   "execution_count": null,
   "metadata": {},
   "outputs": [],
   "source": [
    "### Transfer images by copy\n",
    "img_list, mask_list = D.createImageMaskList(scvPath)\n",
    "for i, m in zip(img_list, mask_list):\n",
    "    U.makeFileCopy(i,saveImgDir)\n",
    "    U.makeFileCopy(m,saveMaskDir)"
   ]
  },
  {
   "cell_type": "code",
   "execution_count": null,
   "metadata": {},
   "outputs": [],
   "source": [
    "use_cuda = torch.cuda.is_available()\n",
    "print(use_cuda)"
   ]
  },
  {
   "cell_type": "markdown",
   "metadata": {},
   "source": [
    "# testing train cycle"
   ]
  },
  {
   "cell_type": "code",
   "execution_count": null,
   "metadata": {},
   "outputs": [],
   "source": [
    "datalistPath = r'C:\\Users\\abfernan\\CrossCanFloodMapping\\RawData\\TestTiling\\template_project\\template_project_feat1_min-annot10_trn.csv'\n",
    "\n",
    "# NOTE: We need to put r in front of the string, to denote raw string. Otherwise,'_' character will truncate the string \n",
    "args = {'batch_size': 1, 'num_workers': 4,'drop_last': True}\n",
    "\n",
    "fullSet = D.customDataSet(datalistPath)\n",
    "# img,mask=fullSet.__getitem__()\n",
    "trainSet, valSet = D.splitDataset(fullSet)\n",
    "print(f\"Dataset lens : train: {trainSet.__len__()} :-- valSet: {valSet.__len__()}\")\n",
    "\n",
    "train_set = D.customDataloader(trainSet,args)  #.getDataloader()     \n",
    "val_set = D.customDataloader(valSet,args)  #.getDataloader()\n",
    "# rasterPath = '/Users/abdielfer/RNCanWork/GDLData/TestTiling/template_project/trn/VilleGatineau-1/images/'"
   ]
  },
  {
   "cell_type": "code",
   "execution_count": null,
   "metadata": {},
   "outputs": [],
   "source": [
    "model = UNetFlood(1,1)\n",
    "# loss_fn = nn.CrossEntropyLoss() if model.classes > 1 else nn.BCEWithLogitsLoss()\n",
    "loss_fn = L.lovasz_hinge\n",
    "\n",
    "optimizer = Adam(model.parameters(), lr = 0.0001) #SGD(model.parameters(), lr=0.0001, momentum=0.9)##  \n",
    "\n",
    "trainer = models_trainer.models_trainer(model,loss_fn,optimizer, iou_binary)\n",
    "trainer.set_loaders(train_set,val_set)"
   ]
  },
  {
   "cell_type": "code",
   "execution_count": null,
   "metadata": {},
   "outputs": [],
   "source": [
    "trainer.train(2)"
   ]
  },
  {
   "cell_type": "code",
   "execution_count": null,
   "metadata": {},
   "outputs": [],
   "source": [
    "# trainer.load_checkpoint('2304061151')"
   ]
  },
  {
   "cell_type": "markdown",
   "metadata": {},
   "source": [
    "# Testing metric computation"
   ]
  },
  {
   "cell_type": "code",
   "execution_count": null,
   "metadata": {},
   "outputs": [],
   "source": [
    "from torch.nn.functional import sigmoid\n",
    "import matplotlib.pyplot as plt\n",
    "\n",
    "def _computeMetricPerMiniBatch(data_loader, metric_fn, model):\n",
    "        '''\n",
    "        Return de mean per batch of the metric in self.metric  \n",
    "        '''\n",
    "        metrics = []\n",
    "        miniBathcMetric = []\n",
    "        for x_batch, y_batch in data_loader:\n",
    "            metric=[]\n",
    "            print(f\"Batch = {i}\")\n",
    "            i+=1\n",
    "            for x,y in zip(x_batch, y_batch):\n",
    "                yHat = model(torch.unsqueeze(x,0))\n",
    "                y_hat_sigmoid = torch.round(sigmoid(yHat)).to(torch.int32)\n",
    "                y_item= y.numpy() if torch.is_tensor(y) else y.numpy().squeeze()\n",
    "                y_hat_item = y_hat_sigmoid.detach().numpy().squeeze() if torch.is_tensor(y_hat_sigmoid) else y_hat_sigmoid.numpy().squeeze()\n",
    "                metricPerImage = metric_fn(y_hat_item, y_item)\n",
    "                metric.append(metricPerImage)    \n",
    "            ItemMetric = Average(metric)\n",
    "            miniBathcMetric.append(ItemMetric)\n",
    "        metricMean = Average(miniBathcMetric)\n",
    "        return metricMean\n",
    "\n",
    "def plotImageAndMask(img, img1,mask,imgName:str='Image', img1Name:str='Image1', mskName: str= 'Mask'):\n",
    "    # colList = ['Image','Mask']\n",
    "    image = img.detach().numpy() if torch.is_tensor(img) else img.numpy().squeeze()\n",
    "    image1 = img1.detach().numpy() if torch.is_tensor(img1) else img1.numpy().squeeze()\n",
    "    mask_squeezed = mask.detach().numpy() if torch.is_tensor(mask) else mask.numpy().squeeze()\n",
    "    fig, axs = plt.subplots(1,3, figsize=(10,5), sharey=True)\n",
    "    axs[0].imshow(image, cmap='Greys_r')\n",
    "    axs[0].set(xlabel= imgName)\n",
    "    axs[1].imshow(image1, cmap='Greys_r')\n",
    "    axs[1].set(xlabel= img1Name)\n",
    "    axs[2].imshow(mask_squeezed, cmap='Greys_r')\n",
    "    axs[2].set(xlabel= mskName)\n",
    "    plt.rcParams['font.size'] = '15'\n",
    "    fig.tight_layout()\n",
    "   \n",
    "def Average(lst):\n",
    "    ave = sum(lst) / len(lst)\n",
    "    return round(ave,2)"
   ]
  },
  {
   "cell_type": "code",
   "execution_count": null,
   "metadata": {},
   "outputs": [],
   "source": [
    "metric_fn = L.iou_binary\n",
    "model = trainer.getModel()\n",
    "with torch.no_grad():\n",
    "    metric = _computeMetricPerMiniBatch(val_set, metric_fn, model)"
   ]
  },
  {
   "cell_type": "code",
   "execution_count": null,
   "metadata": {},
   "outputs": [],
   "source": [
    "print(F\"Finav matric value {metric}\")"
   ]
  },
  {
   "cell_type": "code",
   "execution_count": null,
   "metadata": {},
   "outputs": [],
   "source": [
    "item = next(iter(val_set))\n",
    "imag = item[0]\n",
    "mask = item[1]\n",
    "print('image to model input shape',imag.shape)\n",
    "\n",
    "model.eval()\n",
    "Y_hat = model(imag)\n",
    "print('Y_hat to model input shape',Y_hat.shape)\n",
    "model.train()\n"
   ]
  },
  {
   "cell_type": "code",
   "execution_count": null,
   "metadata": {},
   "outputs": [],
   "source": [
    "for i in range(0,imag.shape[0]):\n",
    "    U.plotImageAndMask(Y_hat[i][0], mask[i][0])\n"
   ]
  },
  {
   "cell_type": "code",
   "execution_count": null,
   "metadata": {},
   "outputs": [],
   "source": [
    "##  Works well!\n",
    "# Testing util.makePredictionRaster() for inference.\n",
    "inToInfer,_ = U.readRaster(rasterPath)\n",
    "\n",
    "imgToInferTensor = U.imageToTensor(inToInfer)\n",
    "print(\"imgToInferTensor shape: ----\", imgToInferTensor.shape)\n",
    "out = U.makePredictionRaster(rasterPath, model,saveRaster=True)\n",
    "print('out shape: _____ ',out.shape)\n"
   ]
  },
  {
   "cell_type": "code",
   "execution_count": null,
   "metadata": {},
   "outputs": [],
   "source": [
    "#test IoU\n",
    "# Modified mask: righ up corner have been removed from real mask in QGIS. Both share CRS, resolution, ect. \n",
    "parentDir = r'C:\\Users\\abfernan\\CrossCanFloodMapping\\RawData\\SyntheticPredictionandMask'\n",
    "realMask = 'mask1.tif'\n",
    "modifiedMask = 'SintheticGT1_1.tif'\n",
    "\n",
    "maskPath = os.path.join(parentDir,realMask)\n",
    "gtPath = os.path.join(parentDir, modifiedMask)\n",
    "print(maskPath, gtPath)\n",
    "\n",
    "real,_ = U.readRaster(maskPath)\n",
    "modified,_ = U.readRaster(gtPath)\n",
    "\n",
    "ioUB = iou_binary(real,modified)\n",
    "print(f\"iou_binary : {ioUB}\")\n",
    "\n",
    "realTensor = U.imageToTensor(real)\n",
    "modifiedTensor = U.imageToTensor(modified)\n",
    "\n",
    "print(f\"binaryAccuracy : {binaryAccuracy(realTensor,modifiedTensor)}\")\n",
    "\n",
    "U.plotImageAndMask(U.imageToTensor(real)[0],U.imageToTensor(modified)[0],'original mask','modified mask')\n",
    "\n",
    "#  OUTPUT = 87,987% iou, is a good representation of mask differences. "
   ]
  },
  {
   "cell_type": "code",
   "execution_count": null,
   "metadata": {},
   "outputs": [],
   "source": [
    "U.plotImageAndMask(imgToInferTensor[0],rasterData[0])"
   ]
  },
  {
   "cell_type": "code",
   "execution_count": null,
   "metadata": {},
   "outputs": [],
   "source": [
    "import torch as T\n",
    "from torch.autograd import Variable"
   ]
  },
  {
   "cell_type": "code",
   "execution_count": null,
   "metadata": {},
   "outputs": [],
   "source": [
    "flated = Y_hat[0][0].view(-1)\n",
    "signs = 2. * Y_hat[0][0].float() - 1.\n",
    "# print(Y_hat[0][0][0:20,340:350])\n",
    "# print('signe : ____',signs[0:20,340:350])\n",
    "# print(signs.shape)\n",
    "zerosAndOnes = torch.where(signs==-1,torch.tensor(0),signs)\n",
    "# print(zerosAndOnes[0:20,340:350])\n",
    "errors = (1. - Y_hat[0][0] * Variable(signs))\n",
    "U.plotImageAndMask(Y_hat[0][0], zerosAndOnes)\n",
    "ioUB = L.iou_binary(zerosAndOnes,zerosAndOnes, per_image=False)\n",
    "print(ioUB)"
   ]
  },
  {
   "cell_type": "code",
   "execution_count": null,
   "metadata": {},
   "outputs": [],
   "source": [
    "####   Apply sigmoid to the output image to compare with Mask...IMportant!!!!\n",
    "y_hatSigmoided = torch.sigmoid(Y_hat[0][0])\n",
    "U.plotImageAndMask(y_hatSigmoided, mask[0][0])"
   ]
  },
  {
   "cell_type": "code",
   "execution_count": null,
   "metadata": {},
   "outputs": [],
   "source": [
    "### Visualize all batch image-mask pairs. \n",
    "# NOTE :   img, mask = next(iter(train_set))\n",
    "i = 0\n",
    "j = 0\n",
    "for batch in train_set:\n",
    "    for item in batch:\n",
    "        print(f\"Bathc {i}, item {j}\")\n",
    "        print('item',item.shape)\n",
    "        j +=1\n",
    "        \n",
    "    # U.plotImageAndMask(batch[0][0],batch[1][0])\n",
    "    i+=1\n",
    "    j=0  \n",
    "    print(\"_______\") \n"
   ]
  },
  {
   "cell_type": "markdown",
   "metadata": {},
   "source": [
    "# Things to test: \n",
    "## Image visualization."
   ]
  },
  {
   "cell_type": "code",
   "execution_count": null,
   "metadata": {},
   "outputs": [],
   "source": [
    "## Ref: \n",
    "\n",
    "from typing import Iterable, List\n",
    "import torch\n",
    "import matplotlib.pyplot as plt\n",
    "\n",
    "def plot_imgs(images: Iterable, axs: Iterable, chnls: List[int] = [2, 1, 0], bright: float = 3.):\n",
    "    for img, ax in zip(images, axs):\n",
    "        arr = torch.clamp(bright * img, min=0, max=1).numpy()\n",
    "        rgb = arr.transpose(1, 2, 0)[:, :, chnls]\n",
    "        ax.imshow(rgb)\n",
    "        ax.axis('off')\n",
    "\n",
    "\n",
    "def plot_msks(masks: Iterable, axs: Iterable):\n",
    "    for mask, ax in zip(masks, axs):\n",
    "        ax.imshow(mask.squeeze().numpy(), cmap='gray')\n",
    "        ax.axis('off')\n",
    "\n",
    "def plot_batch(batch: dict, bright: float = 3., cols: int = 4, width: int = 5, chnls: List[int] = [2, 1, 0]):\n",
    "\n",
    "    # Get the samples and the number of items in the batch\n",
    "    samples = unbind_samples(batch.copy())\n",
    "    \n",
    "    # if batch contains images and masks, the number of images will be doubled\n",
    "    n = 2 * len(samples) if ('image' in batch) and ('mask' in batch) else len(samples)\n",
    "\n",
    "    # calculate the number of rows in the grid\n",
    "    rows = n//cols + (1 if n%cols != 0 else 0)\n",
    "\n",
    "    # create a grid\n",
    "    _, axs = plt.subplots(rows, cols, figsize=(cols*width, rows*width))  \n",
    "\n",
    "    if ('image' in batch) and ('mask' in batch):\n",
    "        # plot the images on the even axis\n",
    "        plot_imgs(images=map(lambda x: x['image'], samples), axs=axs.reshape(-1)[::2], chnls=chnls, bright=bright) #type: ignore\n",
    "\n",
    "        # plot the masks on the odd axis\n",
    "        plot_msks(masks=map(lambda x: x['mask'], samples), axs=axs.reshape(-1)[1::2]) #type: ignore\n",
    "\n",
    "    else:\n",
    "\n",
    "        if 'image' in batch:\n",
    "            plot_imgs(images=map(lambda x: x['image'], samples), axs=axs.reshape(-1), chnls=chnls, bright=bright) #type: ignore\n",
    "    \n",
    "        elif 'mask' in batch:\n",
    "            plot_msks(masks=map(lambda x: x['mask'], samples), axs=axs.reshape(-1)) #type: ignore"
   ]
  },
  {
   "cell_type": "code",
   "execution_count": null,
   "metadata": {},
   "outputs": [],
   "source": [
    "\n",
    "from pathlib import  Path\n",
    "import xarray as xr\n",
    "import matplotlib.pyplot as plt\n",
    "\n",
    "root = Path('dset-s2')\n",
    "assert root.exists()\n",
    "\n",
    "train_imgs = list((root/'tra_scene').glob('*.tif'))\n",
    "train_masks = list((root/'tra_truth').glob('*.tif'))\n",
    "\n",
    "# As the images and corresponding masks are matched by name, we will sort both lists to keep them synchronized.\n",
    "train_imgs.sort(); train_masks.sort()\n",
    "     \n",
    "\n",
    "idx = 0\n",
    "img = xr.open_rasterio(train_imgs[idx])\n",
    "mask = xr.open_rasterio(train_masks[idx])\n",
    "_, axs = plt.subplots(1, 2, figsize=(15, 6))\n",
    "\n",
    "# plot the tile\n",
    "rgb = img.data[[2, 1, 0]].transpose((1, 2, 0))/3000\n",
    "axs[0].imshow(rgb.clip(min=0, max=1))\n",
    "\n",
    "# plot the mask\n",
    "axs[1].imshow(mask.data.squeeze(), cmap='Blues')"
   ]
  },
  {
   "cell_type": "markdown",
   "metadata": {},
   "source": [
    "# Cleaning sampling from GDL.\n",
    "### GDL sampling includes images with no mask matching. In this section we remove unnecessary files.  "
   ]
  },
  {
   "cell_type": "code",
   "execution_count": null,
   "metadata": {},
   "outputs": [],
   "source": [
    "scvPath = r'C:\\Users\\abfernan\\CrossCanFloodMapping\\RawData\\TestTiling\\percentage_1\\percentage_1_feat1_min-annot10_trn.csv'\n",
    "# tifDirPath = r''"
   ]
  },
  {
   "cell_type": "code",
   "execution_count": null,
   "metadata": {},
   "outputs": [],
   "source": [
    "import csv\n",
    " \n",
    "# open the file in read mode\n",
    "filename = open(scvPath, 'r')\n",
    " \n",
    "# creating dictReader object\n",
    "file = csv.DictReader(filename)\n",
    "print(file)"
   ]
  },
  {
   "cell_type": "code",
   "execution_count": null,
   "metadata": {},
   "outputs": [],
   "source": [
    "import pandas as pd\n",
    "csvPath = r'C:\\Users\\abfernan\\CrossCanFloodMapping\\RawData\\TestTiling\\percentage_1\\TestPermanentTransf.csv'\n",
    "fields = ['image', 'mask', '%']\n",
    "df = pd.read_csv(csvPath,index_col = None, delimiter = ';')\n",
    "print(df.shape)"
   ]
  },
  {
   "cell_type": "code",
   "execution_count": 2,
   "metadata": {},
   "outputs": [
    {
     "name": "stdout",
     "output_type": "stream",
     "text": [
      "CsV list len 5406\n",
      "Relocate True\n",
      "Roots C:\\Users\\abfernan\\CrossCanFloodMapping\\DatasetCNNFlood\\C1Dataset\\Done\\template_project\\trn\n",
      "Local List len :-->> 27198\n",
      "Roots C:\\Users\\abfernan\\CrossCanFloodMapping\\DatasetCNNFlood\\C1Dataset\\Done\\template_project\\trn\\CA_Lethbridge\n",
      "Local List len :-->> 767\n",
      "Roots C:\\Users\\abfernan\\CrossCanFloodMapping\\DatasetCNNFlood\\C1Dataset\\Done\\template_project\\trn\\CA_Lethbridge\\images\n",
      "Local List len :-->> 561\n",
      "Roots C:\\Users\\abfernan\\CrossCanFloodMapping\\DatasetCNNFlood\\C1Dataset\\Done\\template_project\\trn\\CA_Lethbridge\\labels\n",
      "Local List len :-->> 0\n",
      "Roots C:\\Users\\abfernan\\CrossCanFloodMapping\\DatasetCNNFlood\\C1Dataset\\Done\\template_project\\trn\\CA_Lethbridge\\labels_burned\n",
      "Local List len :-->> 206\n",
      "Roots C:\\Users\\abfernan\\CrossCanFloodMapping\\DatasetCNNFlood\\C1Dataset\\Done\\template_project\\trn\\CA_Lethbridge\\labels_burned_preview\n",
      "Local List len :-->> 0\n",
      "Roots C:\\Users\\abfernan\\CrossCanFloodMapping\\DatasetCNNFlood\\C1Dataset\\Done\\template_project\\trn\\Hamilton_Niagara_WellandLyonsSingers\n",
      "Local List len :-->> 6001\n",
      "Roots C:\\Users\\abfernan\\CrossCanFloodMapping\\DatasetCNNFlood\\C1Dataset\\Done\\template_project\\trn\\Hamilton_Niagara_WellandLyonsSingers\\images\n",
      "Local List len :-->> 5325\n",
      "Roots C:\\Users\\abfernan\\CrossCanFloodMapping\\DatasetCNNFlood\\C1Dataset\\Done\\template_project\\trn\\Hamilton_Niagara_WellandLyonsSingers\\labels\n",
      "Local List len :-->> 0\n",
      "Roots C:\\Users\\abfernan\\CrossCanFloodMapping\\DatasetCNNFlood\\C1Dataset\\Done\\template_project\\trn\\Hamilton_Niagara_WellandLyonsSingers\\labels_burned\n",
      "Local List len :-->> 676\n",
      "Roots C:\\Users\\abfernan\\CrossCanFloodMapping\\DatasetCNNFlood\\C1Dataset\\Done\\template_project\\trn\\Hamilton_Niagara_WellandLyonsSingers\\labels_burned_preview\n",
      "Local List len :-->> 0\n",
      "Roots C:\\Users\\abfernan\\CrossCanFloodMapping\\DatasetCNNFlood\\C1Dataset\\Done\\template_project\\trn\\Hamilton_Niagara_WingnellEagleBearsBeaver\n",
      "Local List len :-->> 316\n",
      "Roots C:\\Users\\abfernan\\CrossCanFloodMapping\\DatasetCNNFlood\\C1Dataset\\Done\\template_project\\trn\\Hamilton_Niagara_WingnellEagleBearsBeaver\\images\n",
      "Local List len :-->> 216\n",
      "Roots C:\\Users\\abfernan\\CrossCanFloodMapping\\DatasetCNNFlood\\C1Dataset\\Done\\template_project\\trn\\Hamilton_Niagara_WingnellEagleBearsBeaver\\labels\n",
      "Local List len :-->> 0\n",
      "Roots C:\\Users\\abfernan\\CrossCanFloodMapping\\DatasetCNNFlood\\C1Dataset\\Done\\template_project\\trn\\Hamilton_Niagara_WingnellEagleBearsBeaver\\labels_burned\n",
      "Local List len :-->> 100\n",
      "Roots C:\\Users\\abfernan\\CrossCanFloodMapping\\DatasetCNNFlood\\C1Dataset\\Done\\template_project\\trn\\Hamilton_Niagara_WingnellEagleBearsBeaver\\labels_burned_preview\n",
      "Local List len :-->> 0\n",
      "Roots C:\\Users\\abfernan\\CrossCanFloodMapping\\DatasetCNNFlood\\C1Dataset\\Done\\template_project\\trn\\Hamilton_RichardsonFrancisWalkerCreek\n",
      "Local List len :-->> 329\n",
      "Roots C:\\Users\\abfernan\\CrossCanFloodMapping\\DatasetCNNFlood\\C1Dataset\\Done\\template_project\\trn\\Hamilton_RichardsonFrancisWalkerCreek\\images\n",
      "Local List len :-->> 317\n",
      "Roots C:\\Users\\abfernan\\CrossCanFloodMapping\\DatasetCNNFlood\\C1Dataset\\Done\\template_project\\trn\\Hamilton_RichardsonFrancisWalkerCreek\\labels\n",
      "Local List len :-->> 0\n",
      "Roots C:\\Users\\abfernan\\CrossCanFloodMapping\\DatasetCNNFlood\\C1Dataset\\Done\\template_project\\trn\\Hamilton_RichardsonFrancisWalkerCreek\\labels_burned\n",
      "Local List len :-->> 12\n",
      "Roots C:\\Users\\abfernan\\CrossCanFloodMapping\\DatasetCNNFlood\\C1Dataset\\Done\\template_project\\trn\\Hamilton_RichardsonFrancisWalkerCreek\\labels_burned_preview\n",
      "Local List len :-->> 0\n",
      "Roots C:\\Users\\abfernan\\CrossCanFloodMapping\\DatasetCNNFlood\\C1Dataset\\Done\\template_project\\trn\\NF_Shearstown\n",
      "Local List len :-->> 153\n",
      "Roots C:\\Users\\abfernan\\CrossCanFloodMapping\\DatasetCNNFlood\\C1Dataset\\Done\\template_project\\trn\\NF_Shearstown\\images\n",
      "Local List len :-->> 120\n",
      "Roots C:\\Users\\abfernan\\CrossCanFloodMapping\\DatasetCNNFlood\\C1Dataset\\Done\\template_project\\trn\\NF_Shearstown\\labels\n",
      "Local List len :-->> 0\n",
      "Roots C:\\Users\\abfernan\\CrossCanFloodMapping\\DatasetCNNFlood\\C1Dataset\\Done\\template_project\\trn\\NF_Shearstown\\labels_burned\n",
      "Local List len :-->> 33\n",
      "Roots C:\\Users\\abfernan\\CrossCanFloodMapping\\DatasetCNNFlood\\C1Dataset\\Done\\template_project\\trn\\NF_Shearstown\\labels_burned_preview\n",
      "Local List len :-->> 0\n",
      "Roots C:\\Users\\abfernan\\CrossCanFloodMapping\\DatasetCNNFlood\\C1Dataset\\Done\\template_project\\trn\\NF_StJohns\n",
      "Local List len :-->> 1039\n",
      "Roots C:\\Users\\abfernan\\CrossCanFloodMapping\\DatasetCNNFlood\\C1Dataset\\Done\\template_project\\trn\\NF_StJohns\\images\n",
      "Local List len :-->> 959\n",
      "Roots C:\\Users\\abfernan\\CrossCanFloodMapping\\DatasetCNNFlood\\C1Dataset\\Done\\template_project\\trn\\NF_StJohns\\labels\n",
      "Local List len :-->> 0\n",
      "Roots C:\\Users\\abfernan\\CrossCanFloodMapping\\DatasetCNNFlood\\C1Dataset\\Done\\template_project\\trn\\NF_StJohns\\labels_burned\n",
      "Local List len :-->> 80\n",
      "Roots C:\\Users\\abfernan\\CrossCanFloodMapping\\DatasetCNNFlood\\C1Dataset\\Done\\template_project\\trn\\NF_StJohns\\labels_burned_preview\n",
      "Local List len :-->> 0\n",
      "Roots C:\\Users\\abfernan\\CrossCanFloodMapping\\DatasetCNNFlood\\C1Dataset\\Done\\template_project\\trn\\NL_Churchill\n",
      "Local List len :-->> 4616\n",
      "Roots C:\\Users\\abfernan\\CrossCanFloodMapping\\DatasetCNNFlood\\C1Dataset\\Done\\template_project\\trn\\NL_Churchill\\images\n",
      "Local List len :-->> 3333\n",
      "Roots C:\\Users\\abfernan\\CrossCanFloodMapping\\DatasetCNNFlood\\C1Dataset\\Done\\template_project\\trn\\NL_Churchill\\labels\n",
      "Local List len :-->> 0\n",
      "Roots C:\\Users\\abfernan\\CrossCanFloodMapping\\DatasetCNNFlood\\C1Dataset\\Done\\template_project\\trn\\NL_Churchill\\labels_burned\n",
      "Local List len :-->> 1283\n",
      "Roots C:\\Users\\abfernan\\CrossCanFloodMapping\\DatasetCNNFlood\\C1Dataset\\Done\\template_project\\trn\\NL_Churchill\\labels_burned_preview\n",
      "Local List len :-->> 0\n",
      "Roots C:\\Users\\abfernan\\CrossCanFloodMapping\\DatasetCNNFlood\\C1Dataset\\Done\\template_project\\trn\\NL_Exploits\n",
      "Local List len :-->> 2309\n",
      "Roots C:\\Users\\abfernan\\CrossCanFloodMapping\\DatasetCNNFlood\\C1Dataset\\Done\\template_project\\trn\\NL_Exploits\\images\n",
      "Local List len :-->> 1725\n",
      "Roots C:\\Users\\abfernan\\CrossCanFloodMapping\\DatasetCNNFlood\\C1Dataset\\Done\\template_project\\trn\\NL_Exploits\\labels\n",
      "Local List len :-->> 0\n",
      "Roots C:\\Users\\abfernan\\CrossCanFloodMapping\\DatasetCNNFlood\\C1Dataset\\Done\\template_project\\trn\\NL_Exploits\\labels_burned\n",
      "Local List len :-->> 584\n",
      "Roots C:\\Users\\abfernan\\CrossCanFloodMapping\\DatasetCNNFlood\\C1Dataset\\Done\\template_project\\trn\\NL_Exploits\\labels_burned_preview\n",
      "Local List len :-->> 0\n",
      "Roots C:\\Users\\abfernan\\CrossCanFloodMapping\\DatasetCNNFlood\\C1Dataset\\Done\\template_project\\trn\\NS_EastKentville\n",
      "Local List len :-->> 32\n",
      "Roots C:\\Users\\abfernan\\CrossCanFloodMapping\\DatasetCNNFlood\\C1Dataset\\Done\\template_project\\trn\\NS_EastKentville\\images\n",
      "Local List len :-->> 16\n",
      "Roots C:\\Users\\abfernan\\CrossCanFloodMapping\\DatasetCNNFlood\\C1Dataset\\Done\\template_project\\trn\\NS_EastKentville\\labels\n",
      "Local List len :-->> 0\n",
      "Roots C:\\Users\\abfernan\\CrossCanFloodMapping\\DatasetCNNFlood\\C1Dataset\\Done\\template_project\\trn\\NS_EastKentville\\labels_burned\n",
      "Local List len :-->> 16\n",
      "Roots C:\\Users\\abfernan\\CrossCanFloodMapping\\DatasetCNNFlood\\C1Dataset\\Done\\template_project\\trn\\NS_EastKentville\\labels_burned_preview\n",
      "Local List len :-->> 0\n",
      "Roots C:\\Users\\abfernan\\CrossCanFloodMapping\\DatasetCNNFlood\\C1Dataset\\Done\\template_project\\trn\\NS_MargareeRiver\n",
      "Local List len :-->> 3059\n",
      "Roots C:\\Users\\abfernan\\CrossCanFloodMapping\\DatasetCNNFlood\\C1Dataset\\Done\\template_project\\trn\\NS_MargareeRiver\\images\n",
      "Local List len :-->> 2629\n",
      "Roots C:\\Users\\abfernan\\CrossCanFloodMapping\\DatasetCNNFlood\\C1Dataset\\Done\\template_project\\trn\\NS_MargareeRiver\\labels\n",
      "Local List len :-->> 0\n",
      "Roots C:\\Users\\abfernan\\CrossCanFloodMapping\\DatasetCNNFlood\\C1Dataset\\Done\\template_project\\trn\\NS_MargareeRiver\\labels_burned\n",
      "Local List len :-->> 430\n",
      "Roots C:\\Users\\abfernan\\CrossCanFloodMapping\\DatasetCNNFlood\\C1Dataset\\Done\\template_project\\trn\\NS_MargareeRiver\\labels_burned_preview\n",
      "Local List len :-->> 0\n",
      "Roots C:\\Users\\abfernan\\CrossCanFloodMapping\\DatasetCNNFlood\\C1Dataset\\Done\\template_project\\trn\\ON_Mississauga\n",
      "Local List len :-->> 947\n",
      "Roots C:\\Users\\abfernan\\CrossCanFloodMapping\\DatasetCNNFlood\\C1Dataset\\Done\\template_project\\trn\\ON_Mississauga\\images\n",
      "Local List len :-->> 857\n",
      "Roots C:\\Users\\abfernan\\CrossCanFloodMapping\\DatasetCNNFlood\\C1Dataset\\Done\\template_project\\trn\\ON_Mississauga\\labels\n",
      "Local List len :-->> 0\n",
      "Roots C:\\Users\\abfernan\\CrossCanFloodMapping\\DatasetCNNFlood\\C1Dataset\\Done\\template_project\\trn\\ON_Mississauga\\labels_burned\n",
      "Local List len :-->> 90\n",
      "Roots C:\\Users\\abfernan\\CrossCanFloodMapping\\DatasetCNNFlood\\C1Dataset\\Done\\template_project\\trn\\ON_Mississauga\\labels_burned_preview\n",
      "Local List len :-->> 0\n",
      "Roots C:\\Users\\abfernan\\CrossCanFloodMapping\\DatasetCNNFlood\\C1Dataset\\Done\\template_project\\trn\\Ottawa_Gatineau_CardinalBillberryBeckettsOttawa\n",
      "Local List len :-->> 1406\n",
      "Roots C:\\Users\\abfernan\\CrossCanFloodMapping\\DatasetCNNFlood\\C1Dataset\\Done\\template_project\\trn\\Ottawa_Gatineau_CardinalBillberryBeckettsOttawa\\images\n",
      "Local List len :-->> 1120\n",
      "Roots C:\\Users\\abfernan\\CrossCanFloodMapping\\DatasetCNNFlood\\C1Dataset\\Done\\template_project\\trn\\Ottawa_Gatineau_CardinalBillberryBeckettsOttawa\\labels\n",
      "Local List len :-->> 0\n",
      "Roots C:\\Users\\abfernan\\CrossCanFloodMapping\\DatasetCNNFlood\\C1Dataset\\Done\\template_project\\trn\\Ottawa_Gatineau_CardinalBillberryBeckettsOttawa\\labels_burned\n",
      "Local List len :-->> 286\n",
      "Roots C:\\Users\\abfernan\\CrossCanFloodMapping\\DatasetCNNFlood\\C1Dataset\\Done\\template_project\\trn\\Ottawa_Gatineau_CardinalBillberryBeckettsOttawa\\labels_burned_preview\n",
      "Local List len :-->> 0\n",
      "Roots C:\\Users\\abfernan\\CrossCanFloodMapping\\DatasetCNNFlood\\C1Dataset\\Done\\template_project\\trn\\Ottawa_Gatineau_FlowingNicholsHobbsKing\n",
      "Local List len :-->> 1887\n",
      "Roots C:\\Users\\abfernan\\CrossCanFloodMapping\\DatasetCNNFlood\\C1Dataset\\Done\\template_project\\trn\\Ottawa_Gatineau_FlowingNicholsHobbsKing\\images\n",
      "Local List len :-->> 1335\n",
      "Roots C:\\Users\\abfernan\\CrossCanFloodMapping\\DatasetCNNFlood\\C1Dataset\\Done\\template_project\\trn\\Ottawa_Gatineau_FlowingNicholsHobbsKing\\labels\n",
      "Local List len :-->> 0\n",
      "Roots C:\\Users\\abfernan\\CrossCanFloodMapping\\DatasetCNNFlood\\C1Dataset\\Done\\template_project\\trn\\Ottawa_Gatineau_FlowingNicholsHobbsKing\\labels_burned\n",
      "Local List len :-->> 552\n",
      "Roots C:\\Users\\abfernan\\CrossCanFloodMapping\\DatasetCNNFlood\\C1Dataset\\Done\\template_project\\trn\\Ottawa_Gatineau_FlowingNicholsHobbsKing\\labels_burned_preview\n",
      "Local List len :-->> 0\n",
      "Roots C:\\Users\\abfernan\\CrossCanFloodMapping\\DatasetCNNFlood\\C1Dataset\\Done\\template_project\\trn\\Ottawa_Gatineau_RideauMudBuckels\n",
      "Local List len :-->> 3992\n",
      "Roots C:\\Users\\abfernan\\CrossCanFloodMapping\\DatasetCNNFlood\\C1Dataset\\Done\\template_project\\trn\\Ottawa_Gatineau_RideauMudBuckels\\images\n"
     ]
    },
    {
     "name": "stdout",
     "output_type": "stream",
     "text": [
      "Local List len :-->> 3057\n",
      "Roots C:\\Users\\abfernan\\CrossCanFloodMapping\\DatasetCNNFlood\\C1Dataset\\Done\\template_project\\trn\\Ottawa_Gatineau_RideauMudBuckels\\labels\n",
      "Local List len :-->> 0\n",
      "Roots C:\\Users\\abfernan\\CrossCanFloodMapping\\DatasetCNNFlood\\C1Dataset\\Done\\template_project\\trn\\Ottawa_Gatineau_RideauMudBuckels\\labels_burned\n",
      "Local List len :-->> 935\n",
      "Roots C:\\Users\\abfernan\\CrossCanFloodMapping\\DatasetCNNFlood\\C1Dataset\\Done\\template_project\\trn\\Ottawa_Gatineau_RideauMudBuckels\\labels_burned_preview\n",
      "Local List len :-->> 0\n",
      "Roots C:\\Users\\abfernan\\CrossCanFloodMapping\\DatasetCNNFlood\\C1Dataset\\Done\\template_project\\trn\\Ottawa_Gatineau_VilleGatineau\n",
      "Local List len :-->> 345\n",
      "Roots C:\\Users\\abfernan\\CrossCanFloodMapping\\DatasetCNNFlood\\C1Dataset\\Done\\template_project\\trn\\Ottawa_Gatineau_VilleGatineau\\images\n",
      "Local List len :-->> 221\n",
      "Roots C:\\Users\\abfernan\\CrossCanFloodMapping\\DatasetCNNFlood\\C1Dataset\\Done\\template_project\\trn\\Ottawa_Gatineau_VilleGatineau\\labels\n",
      "Local List len :-->> 0\n",
      "Roots C:\\Users\\abfernan\\CrossCanFloodMapping\\DatasetCNNFlood\\C1Dataset\\Done\\template_project\\trn\\Ottawa_Gatineau_VilleGatineau\\labels_burned\n",
      "Local List len :-->> 124\n",
      "Roots C:\\Users\\abfernan\\CrossCanFloodMapping\\DatasetCNNFlood\\C1Dataset\\Done\\template_project\\trn\\Ottawa_Gatineau_VilleGatineau\\labels_burned_preview\n",
      "Local List len :-->> 0\n",
      "Roots C:\\Users\\abfernan\\CrossCanFloodMapping\\DatasetCNNFlood\\C1Dataset\\Done\\template_project\\trn\\TransitDir\n",
      "Local List len :-->> 0\n",
      "tifList list len 81594\n"
     ]
    },
    {
     "ename": "Error",
     "evalue": "Destination path 'C:\\Users\\abfernan\\CrossCanFloodMapping\\DatasetCNNFlood\\C1Dataset\\Done\\template_project\\trn\\TransitDir\\CA_Lethbridge_360297_05569863046_5500044_366861254.tif' already exists",
     "output_type": "error",
     "traceback": [
      "\u001b[1;31m---------------------------------------------------------------------------\u001b[0m",
      "\u001b[1;31mError\u001b[0m                                     Traceback (most recent call last)",
      "Cell \u001b[1;32mIn[2], line 9\u001b[0m\n\u001b[0;32m      5\u001b[0m Dir \u001b[38;5;241m=\u001b[39m \u001b[38;5;124mr\u001b[39m\u001b[38;5;124m'\u001b[39m\u001b[38;5;124mC:\u001b[39m\u001b[38;5;124m\\\u001b[39m\u001b[38;5;124mUsers\u001b[39m\u001b[38;5;124m\\\u001b[39m\u001b[38;5;124mabfernan\u001b[39m\u001b[38;5;124m\\\u001b[39m\u001b[38;5;124mCrossCanFloodMapping\u001b[39m\u001b[38;5;124m\\\u001b[39m\u001b[38;5;124mDatasetCNNFlood\u001b[39m\u001b[38;5;124m\\\u001b[39m\u001b[38;5;124mC1Dataset\u001b[39m\u001b[38;5;124m\\\u001b[39m\u001b[38;5;124mDone\u001b[39m\u001b[38;5;124m\\\u001b[39m\u001b[38;5;124mtemplate_project\u001b[39m\u001b[38;5;124m\\\u001b[39m\u001b[38;5;124mtrn\u001b[39m\u001b[38;5;124m'\u001b[39m\n\u001b[0;32m      7\u001b[0m \u001b[38;5;66;03m# tifList = U.listALLFilesInDirByExt(Dir, ext='.tif')\u001b[39;00m\n\u001b[0;32m      8\u001b[0m \u001b[38;5;66;03m# print(f\"Jupyter Nbk All available *tif :  {len(tifList)}\")\u001b[39;00m\n\u001b[1;32m----> 9\u001b[0m noMatchList \u001b[38;5;241m=\u001b[39m \u001b[43mU\u001b[49m\u001b[38;5;241;43m.\u001b[39;49m\u001b[43mnoMatch_TifMask_List\u001b[49m\u001b[43m(\u001b[49m\u001b[43mscvPath\u001b[49m\u001b[43m,\u001b[49m\u001b[43mimagDir\u001b[49m\u001b[43m,\u001b[49m\u001b[43mrelocate\u001b[49m\u001b[43m \u001b[49m\u001b[38;5;241;43m=\u001b[39;49m\u001b[43m \u001b[49m\u001b[38;5;28;43;01mTrue\u001b[39;49;00m\u001b[43m,\u001b[49m\u001b[43m \u001b[49m\u001b[43mrelocatePath\u001b[49m\u001b[43m \u001b[49m\u001b[38;5;241;43m=\u001b[39;49m\u001b[43m \u001b[49m\u001b[43mDir\u001b[49m\u001b[43m)\u001b[49m\n",
      "File \u001b[1;32m~\\CrossCanFloodMapping\\DL4Flood\\scr\\util.py:376\u001b[0m, in \u001b[0;36mnoMatch_TifMask_List\u001b[1;34m(scvPath, tifDir, col_idx, delim, relocate, relocatePath)\u001b[0m\n\u001b[0;32m    374\u001b[0m     \u001b[38;5;28;01mif\u001b[39;00m \u001b[38;5;129;01mnot\u001b[39;00m \u001b[38;5;28many\u001b[39m([tifName \u001b[38;5;129;01min\u001b[39;00m item \u001b[38;5;28;01mfor\u001b[39;00m item \u001b[38;5;129;01min\u001b[39;00m csvList]):\n\u001b[0;32m    375\u001b[0m         noMatchList\u001b[38;5;241m.\u001b[39mappend(tif)\n\u001b[1;32m--> 376\u001b[0m         \u001b[43mrelocateFile\u001b[49m\u001b[43m(\u001b[49m\u001b[43mtif\u001b[49m\u001b[43m,\u001b[49m\u001b[43mtransitPath\u001b[49m\u001b[43m)\u001b[49m\n\u001b[0;32m    377\u001b[0m \u001b[38;5;28mprint\u001b[39m(\u001b[38;5;124mf\u001b[39m\u001b[38;5;124m\"\u001b[39m\u001b[38;5;124mAvailable *tif :  \u001b[39m\u001b[38;5;132;01m{\u001b[39;00m\u001b[38;5;28mlen\u001b[39m(tifList)\u001b[38;5;132;01m}\u001b[39;00m\u001b[38;5;124m\"\u001b[39m)\n\u001b[0;32m    378\u001b[0m \u001b[38;5;28mprint\u001b[39m(\u001b[38;5;124mf\u001b[39m\u001b[38;5;124m\"\u001b[39m\u001b[38;5;124mNO matchig *.tif : \u001b[39m\u001b[38;5;132;01m{\u001b[39;00m\u001b[38;5;28mlen\u001b[39m(noMatchList)\u001b[38;5;132;01m}\u001b[39;00m\u001b[38;5;124m\"\u001b[39m)\n",
      "File \u001b[1;32m~\\CrossCanFloodMapping\\DL4Flood\\scr\\util.py:161\u001b[0m, in \u001b[0;36mrelocateFile\u001b[1;34m(inputFilePath, outputFilePath)\u001b[0m\n\u001b[0;32m    155\u001b[0m \u001b[38;5;28;01mdef\u001b[39;00m \u001b[38;5;21mrelocateFile\u001b[39m(inputFilePath, outputFilePath):\n\u001b[0;32m    156\u001b[0m \u001b[38;5;250m    \u001b[39m\u001b[38;5;124;03m'''\u001b[39;00m\n\u001b[0;32m    157\u001b[0m \u001b[38;5;124;03m    NOTE: @outputFilePath must contain the complete filename\u001b[39;00m\n\u001b[0;32m    158\u001b[0m \u001b[38;5;124;03m    Sintax:\u001b[39;00m\n\u001b[0;32m    159\u001b[0m \u001b[38;5;124;03m     @shutil.move(\"path/to/current/file.foo\", \"path/to/new/destination/for/file.foo\")\u001b[39;00m\n\u001b[0;32m    160\u001b[0m \u001b[38;5;124;03m    '''\u001b[39;00m\n\u001b[1;32m--> 161\u001b[0m     \u001b[43mshutil\u001b[49m\u001b[38;5;241;43m.\u001b[39;49m\u001b[43mmove\u001b[49m\u001b[43m(\u001b[49m\u001b[43minputFilePath\u001b[49m\u001b[43m,\u001b[49m\u001b[43m \u001b[49m\u001b[43moutputFilePath\u001b[49m\u001b[43m)\u001b[49m\n\u001b[0;32m    162\u001b[0m     \u001b[38;5;28;01mreturn\u001b[39;00m \u001b[38;5;28;01mTrue\u001b[39;00m\n",
      "File \u001b[1;32m~\\.conda\\envs\\geo_deep_env\\lib\\shutil.py:814\u001b[0m, in \u001b[0;36mmove\u001b[1;34m(src, dst, copy_function)\u001b[0m\n\u001b[0;32m    811\u001b[0m     real_dst \u001b[38;5;241m=\u001b[39m os\u001b[38;5;241m.\u001b[39mpath\u001b[38;5;241m.\u001b[39mjoin(dst, _basename(src))\n\u001b[0;32m    813\u001b[0m     \u001b[38;5;28;01mif\u001b[39;00m os\u001b[38;5;241m.\u001b[39mpath\u001b[38;5;241m.\u001b[39mexists(real_dst):\n\u001b[1;32m--> 814\u001b[0m         \u001b[38;5;28;01mraise\u001b[39;00m Error(\u001b[38;5;124m\"\u001b[39m\u001b[38;5;124mDestination path \u001b[39m\u001b[38;5;124m'\u001b[39m\u001b[38;5;132;01m%s\u001b[39;00m\u001b[38;5;124m'\u001b[39m\u001b[38;5;124m already exists\u001b[39m\u001b[38;5;124m\"\u001b[39m \u001b[38;5;241m%\u001b[39m real_dst)\n\u001b[0;32m    815\u001b[0m \u001b[38;5;28;01mtry\u001b[39;00m:\n\u001b[0;32m    816\u001b[0m     os\u001b[38;5;241m.\u001b[39mrename(src, real_dst)\n",
      "\u001b[1;31mError\u001b[0m: Destination path 'C:\\Users\\abfernan\\CrossCanFloodMapping\\DatasetCNNFlood\\C1Dataset\\Done\\template_project\\trn\\TransitDir\\CA_Lethbridge_360297_05569863046_5500044_366861254.tif' already exists"
     ]
    }
   ],
   "source": [
    "# 1-recorrer el directorio y crear lista de todos los *.tif. 2-importar *.csv list of images and mask.\n",
    "# 3-compara cada nombre en la lista de *.tif con los de la lista from *.csv, 4- si no esta en la lista, borrar.\n",
    "scvPath = r'C:\\Users\\abfernan\\CrossCanFloodMapping\\DatasetCNNFlood\\C1Dataset\\Done\\template_project\\template_project_feat1_min-annot10_trn.csv'\n",
    "imagDir = r'C:\\Users\\abfernan\\CrossCanFloodMapping\\DatasetCNNFlood\\C1Dataset\\Done\\template_project\\trn'\n",
    "Dir = r'C:\\Users\\abfernan\\CrossCanFloodMapping\\DatasetCNNFlood\\C1Dataset\\Done\\template_project\\trn'\n",
    "\n",
    "# tifList = U.listALLFilesInDirByExt(Dir, ext='.tif')\n",
    "# print(f\"Jupyter Nbk All available *tif :  {len(tifList)}\")\n",
    "noMatchList = U.noMatch_TifMask_List(scvPath,imagDir,relocate = True, relocatePath = Dir)"
   ]
  },
  {
   "cell_type": "code",
   "execution_count": 6,
   "metadata": {},
   "outputs": [
    {
     "name": "stdout",
     "output_type": "stream",
     "text": [
      "Roots C:\\Users\\abfernan\\CrossCanFloodMapping\\DatasetCNNFlood\\C1Dataset\\Done\\template_project\\trn\n",
      "Local List len :-->> 27198\n",
      "Roots C:\\Users\\abfernan\\CrossCanFloodMapping\\DatasetCNNFlood\\C1Dataset\\Done\\template_project\\trn\\CA_Lethbridge\n",
      "Local List len :-->> 767\n",
      "Roots C:\\Users\\abfernan\\CrossCanFloodMapping\\DatasetCNNFlood\\C1Dataset\\Done\\template_project\\trn\\CA_Lethbridge\\images\n",
      "Local List len :-->> 561\n",
      "Roots C:\\Users\\abfernan\\CrossCanFloodMapping\\DatasetCNNFlood\\C1Dataset\\Done\\template_project\\trn\\CA_Lethbridge\\labels\n",
      "Local List len :-->> 0\n",
      "Roots C:\\Users\\abfernan\\CrossCanFloodMapping\\DatasetCNNFlood\\C1Dataset\\Done\\template_project\\trn\\CA_Lethbridge\\labels_burned\n",
      "Local List len :-->> 206\n",
      "Roots C:\\Users\\abfernan\\CrossCanFloodMapping\\DatasetCNNFlood\\C1Dataset\\Done\\template_project\\trn\\CA_Lethbridge\\labels_burned_preview\n",
      "Local List len :-->> 0\n",
      "Roots C:\\Users\\abfernan\\CrossCanFloodMapping\\DatasetCNNFlood\\C1Dataset\\Done\\template_project\\trn\\Hamilton_Niagara_WellandLyonsSingers\n",
      "Local List len :-->> 6001\n",
      "Roots C:\\Users\\abfernan\\CrossCanFloodMapping\\DatasetCNNFlood\\C1Dataset\\Done\\template_project\\trn\\Hamilton_Niagara_WellandLyonsSingers\\images\n",
      "Local List len :-->> 5325\n",
      "Roots C:\\Users\\abfernan\\CrossCanFloodMapping\\DatasetCNNFlood\\C1Dataset\\Done\\template_project\\trn\\Hamilton_Niagara_WellandLyonsSingers\\labels\n",
      "Local List len :-->> 0\n",
      "Roots C:\\Users\\abfernan\\CrossCanFloodMapping\\DatasetCNNFlood\\C1Dataset\\Done\\template_project\\trn\\Hamilton_Niagara_WellandLyonsSingers\\labels_burned\n",
      "Local List len :-->> 676\n",
      "Roots C:\\Users\\abfernan\\CrossCanFloodMapping\\DatasetCNNFlood\\C1Dataset\\Done\\template_project\\trn\\Hamilton_Niagara_WellandLyonsSingers\\labels_burned_preview\n",
      "Local List len :-->> 0\n",
      "Roots C:\\Users\\abfernan\\CrossCanFloodMapping\\DatasetCNNFlood\\C1Dataset\\Done\\template_project\\trn\\Hamilton_Niagara_WingnellEagleBearsBeaver\n",
      "Local List len :-->> 316\n",
      "Roots C:\\Users\\abfernan\\CrossCanFloodMapping\\DatasetCNNFlood\\C1Dataset\\Done\\template_project\\trn\\Hamilton_Niagara_WingnellEagleBearsBeaver\\images\n",
      "Local List len :-->> 216\n",
      "Roots C:\\Users\\abfernan\\CrossCanFloodMapping\\DatasetCNNFlood\\C1Dataset\\Done\\template_project\\trn\\Hamilton_Niagara_WingnellEagleBearsBeaver\\labels\n",
      "Local List len :-->> 0\n",
      "Roots C:\\Users\\abfernan\\CrossCanFloodMapping\\DatasetCNNFlood\\C1Dataset\\Done\\template_project\\trn\\Hamilton_Niagara_WingnellEagleBearsBeaver\\labels_burned\n",
      "Local List len :-->> 100\n",
      "Roots C:\\Users\\abfernan\\CrossCanFloodMapping\\DatasetCNNFlood\\C1Dataset\\Done\\template_project\\trn\\Hamilton_Niagara_WingnellEagleBearsBeaver\\labels_burned_preview\n",
      "Local List len :-->> 0\n",
      "Roots C:\\Users\\abfernan\\CrossCanFloodMapping\\DatasetCNNFlood\\C1Dataset\\Done\\template_project\\trn\\Hamilton_RichardsonFrancisWalkerCreek\n",
      "Local List len :-->> 329\n",
      "Roots C:\\Users\\abfernan\\CrossCanFloodMapping\\DatasetCNNFlood\\C1Dataset\\Done\\template_project\\trn\\Hamilton_RichardsonFrancisWalkerCreek\\images\n",
      "Local List len :-->> 317\n",
      "Roots C:\\Users\\abfernan\\CrossCanFloodMapping\\DatasetCNNFlood\\C1Dataset\\Done\\template_project\\trn\\Hamilton_RichardsonFrancisWalkerCreek\\labels\n",
      "Local List len :-->> 0\n",
      "Roots C:\\Users\\abfernan\\CrossCanFloodMapping\\DatasetCNNFlood\\C1Dataset\\Done\\template_project\\trn\\Hamilton_RichardsonFrancisWalkerCreek\\labels_burned\n",
      "Local List len :-->> 12\n",
      "Roots C:\\Users\\abfernan\\CrossCanFloodMapping\\DatasetCNNFlood\\C1Dataset\\Done\\template_project\\trn\\Hamilton_RichardsonFrancisWalkerCreek\\labels_burned_preview\n",
      "Local List len :-->> 0\n",
      "Roots C:\\Users\\abfernan\\CrossCanFloodMapping\\DatasetCNNFlood\\C1Dataset\\Done\\template_project\\trn\\NF_Shearstown\n",
      "Local List len :-->> 153\n",
      "Roots C:\\Users\\abfernan\\CrossCanFloodMapping\\DatasetCNNFlood\\C1Dataset\\Done\\template_project\\trn\\NF_Shearstown\\images\n",
      "Local List len :-->> 120\n",
      "Roots C:\\Users\\abfernan\\CrossCanFloodMapping\\DatasetCNNFlood\\C1Dataset\\Done\\template_project\\trn\\NF_Shearstown\\labels\n",
      "Local List len :-->> 0\n",
      "Roots C:\\Users\\abfernan\\CrossCanFloodMapping\\DatasetCNNFlood\\C1Dataset\\Done\\template_project\\trn\\NF_Shearstown\\labels_burned\n",
      "Local List len :-->> 33\n",
      "Roots C:\\Users\\abfernan\\CrossCanFloodMapping\\DatasetCNNFlood\\C1Dataset\\Done\\template_project\\trn\\NF_Shearstown\\labels_burned_preview\n",
      "Local List len :-->> 0\n",
      "Roots C:\\Users\\abfernan\\CrossCanFloodMapping\\DatasetCNNFlood\\C1Dataset\\Done\\template_project\\trn\\NF_StJohns\n",
      "Local List len :-->> 1039\n",
      "Roots C:\\Users\\abfernan\\CrossCanFloodMapping\\DatasetCNNFlood\\C1Dataset\\Done\\template_project\\trn\\NF_StJohns\\images\n",
      "Local List len :-->> 959\n",
      "Roots C:\\Users\\abfernan\\CrossCanFloodMapping\\DatasetCNNFlood\\C1Dataset\\Done\\template_project\\trn\\NF_StJohns\\labels\n",
      "Local List len :-->> 0\n",
      "Roots C:\\Users\\abfernan\\CrossCanFloodMapping\\DatasetCNNFlood\\C1Dataset\\Done\\template_project\\trn\\NF_StJohns\\labels_burned\n",
      "Local List len :-->> 80\n",
      "Roots C:\\Users\\abfernan\\CrossCanFloodMapping\\DatasetCNNFlood\\C1Dataset\\Done\\template_project\\trn\\NF_StJohns\\labels_burned_preview\n",
      "Local List len :-->> 0\n",
      "Roots C:\\Users\\abfernan\\CrossCanFloodMapping\\DatasetCNNFlood\\C1Dataset\\Done\\template_project\\trn\\NL_Churchill\n",
      "Local List len :-->> 4616\n",
      "Roots C:\\Users\\abfernan\\CrossCanFloodMapping\\DatasetCNNFlood\\C1Dataset\\Done\\template_project\\trn\\NL_Churchill\\images\n",
      "Local List len :-->> 3333\n",
      "Roots C:\\Users\\abfernan\\CrossCanFloodMapping\\DatasetCNNFlood\\C1Dataset\\Done\\template_project\\trn\\NL_Churchill\\labels\n",
      "Local List len :-->> 0\n",
      "Roots C:\\Users\\abfernan\\CrossCanFloodMapping\\DatasetCNNFlood\\C1Dataset\\Done\\template_project\\trn\\NL_Churchill\\labels_burned\n",
      "Local List len :-->> 1283\n",
      "Roots C:\\Users\\abfernan\\CrossCanFloodMapping\\DatasetCNNFlood\\C1Dataset\\Done\\template_project\\trn\\NL_Churchill\\labels_burned_preview\n",
      "Local List len :-->> 0\n",
      "Roots C:\\Users\\abfernan\\CrossCanFloodMapping\\DatasetCNNFlood\\C1Dataset\\Done\\template_project\\trn\\NL_Exploits\n",
      "Local List len :-->> 2309\n",
      "Roots C:\\Users\\abfernan\\CrossCanFloodMapping\\DatasetCNNFlood\\C1Dataset\\Done\\template_project\\trn\\NL_Exploits\\images\n",
      "Local List len :-->> 1725\n",
      "Roots C:\\Users\\abfernan\\CrossCanFloodMapping\\DatasetCNNFlood\\C1Dataset\\Done\\template_project\\trn\\NL_Exploits\\labels\n",
      "Local List len :-->> 0\n",
      "Roots C:\\Users\\abfernan\\CrossCanFloodMapping\\DatasetCNNFlood\\C1Dataset\\Done\\template_project\\trn\\NL_Exploits\\labels_burned\n",
      "Local List len :-->> 584\n",
      "Roots C:\\Users\\abfernan\\CrossCanFloodMapping\\DatasetCNNFlood\\C1Dataset\\Done\\template_project\\trn\\NL_Exploits\\labels_burned_preview\n",
      "Local List len :-->> 0\n",
      "Roots C:\\Users\\abfernan\\CrossCanFloodMapping\\DatasetCNNFlood\\C1Dataset\\Done\\template_project\\trn\\NS_EastKentville\n",
      "Local List len :-->> 32\n",
      "Roots C:\\Users\\abfernan\\CrossCanFloodMapping\\DatasetCNNFlood\\C1Dataset\\Done\\template_project\\trn\\NS_EastKentville\\images\n",
      "Local List len :-->> 16\n",
      "Roots C:\\Users\\abfernan\\CrossCanFloodMapping\\DatasetCNNFlood\\C1Dataset\\Done\\template_project\\trn\\NS_EastKentville\\labels\n",
      "Local List len :-->> 0\n",
      "Roots C:\\Users\\abfernan\\CrossCanFloodMapping\\DatasetCNNFlood\\C1Dataset\\Done\\template_project\\trn\\NS_EastKentville\\labels_burned\n",
      "Local List len :-->> 16\n",
      "Roots C:\\Users\\abfernan\\CrossCanFloodMapping\\DatasetCNNFlood\\C1Dataset\\Done\\template_project\\trn\\NS_EastKentville\\labels_burned_preview\n",
      "Local List len :-->> 0\n",
      "Roots C:\\Users\\abfernan\\CrossCanFloodMapping\\DatasetCNNFlood\\C1Dataset\\Done\\template_project\\trn\\NS_MargareeRiver\n",
      "Local List len :-->> 3059\n",
      "Roots C:\\Users\\abfernan\\CrossCanFloodMapping\\DatasetCNNFlood\\C1Dataset\\Done\\template_project\\trn\\NS_MargareeRiver\\images\n",
      "Local List len :-->> 2629\n",
      "Roots C:\\Users\\abfernan\\CrossCanFloodMapping\\DatasetCNNFlood\\C1Dataset\\Done\\template_project\\trn\\NS_MargareeRiver\\labels\n",
      "Local List len :-->> 0\n",
      "Roots C:\\Users\\abfernan\\CrossCanFloodMapping\\DatasetCNNFlood\\C1Dataset\\Done\\template_project\\trn\\NS_MargareeRiver\\labels_burned\n",
      "Local List len :-->> 430\n",
      "Roots C:\\Users\\abfernan\\CrossCanFloodMapping\\DatasetCNNFlood\\C1Dataset\\Done\\template_project\\trn\\NS_MargareeRiver\\labels_burned_preview\n",
      "Local List len :-->> 0\n",
      "Roots C:\\Users\\abfernan\\CrossCanFloodMapping\\DatasetCNNFlood\\C1Dataset\\Done\\template_project\\trn\\ON_Mississauga\n",
      "Local List len :-->> 947\n",
      "Roots C:\\Users\\abfernan\\CrossCanFloodMapping\\DatasetCNNFlood\\C1Dataset\\Done\\template_project\\trn\\ON_Mississauga\\images\n",
      "Local List len :-->> 857\n",
      "Roots C:\\Users\\abfernan\\CrossCanFloodMapping\\DatasetCNNFlood\\C1Dataset\\Done\\template_project\\trn\\ON_Mississauga\\labels\n",
      "Local List len :-->> 0\n",
      "Roots C:\\Users\\abfernan\\CrossCanFloodMapping\\DatasetCNNFlood\\C1Dataset\\Done\\template_project\\trn\\ON_Mississauga\\labels_burned\n",
      "Local List len :-->> 90\n",
      "Roots C:\\Users\\abfernan\\CrossCanFloodMapping\\DatasetCNNFlood\\C1Dataset\\Done\\template_project\\trn\\ON_Mississauga\\labels_burned_preview\n",
      "Local List len :-->> 0\n",
      "Roots C:\\Users\\abfernan\\CrossCanFloodMapping\\DatasetCNNFlood\\C1Dataset\\Done\\template_project\\trn\\Ottawa_Gatineau_CardinalBillberryBeckettsOttawa\n",
      "Local List len :-->> 1406\n",
      "Roots C:\\Users\\abfernan\\CrossCanFloodMapping\\DatasetCNNFlood\\C1Dataset\\Done\\template_project\\trn\\Ottawa_Gatineau_CardinalBillberryBeckettsOttawa\\images\n",
      "Local List len :-->> 1120\n",
      "Roots C:\\Users\\abfernan\\CrossCanFloodMapping\\DatasetCNNFlood\\C1Dataset\\Done\\template_project\\trn\\Ottawa_Gatineau_CardinalBillberryBeckettsOttawa\\labels\n",
      "Local List len :-->> 0\n",
      "Roots C:\\Users\\abfernan\\CrossCanFloodMapping\\DatasetCNNFlood\\C1Dataset\\Done\\template_project\\trn\\Ottawa_Gatineau_CardinalBillberryBeckettsOttawa\\labels_burned\n",
      "Local List len :-->> 286\n",
      "Roots C:\\Users\\abfernan\\CrossCanFloodMapping\\DatasetCNNFlood\\C1Dataset\\Done\\template_project\\trn\\Ottawa_Gatineau_CardinalBillberryBeckettsOttawa\\labels_burned_preview\n",
      "Local List len :-->> 0\n",
      "Roots C:\\Users\\abfernan\\CrossCanFloodMapping\\DatasetCNNFlood\\C1Dataset\\Done\\template_project\\trn\\Ottawa_Gatineau_FlowingNicholsHobbsKing\n",
      "Local List len :-->> 1887\n",
      "Roots C:\\Users\\abfernan\\CrossCanFloodMapping\\DatasetCNNFlood\\C1Dataset\\Done\\template_project\\trn\\Ottawa_Gatineau_FlowingNicholsHobbsKing\\images\n",
      "Local List len :-->> 1335\n",
      "Roots C:\\Users\\abfernan\\CrossCanFloodMapping\\DatasetCNNFlood\\C1Dataset\\Done\\template_project\\trn\\Ottawa_Gatineau_FlowingNicholsHobbsKing\\labels\n",
      "Local List len :-->> 0\n",
      "Roots C:\\Users\\abfernan\\CrossCanFloodMapping\\DatasetCNNFlood\\C1Dataset\\Done\\template_project\\trn\\Ottawa_Gatineau_FlowingNicholsHobbsKing\\labels_burned\n",
      "Local List len :-->> 552\n",
      "Roots C:\\Users\\abfernan\\CrossCanFloodMapping\\DatasetCNNFlood\\C1Dataset\\Done\\template_project\\trn\\Ottawa_Gatineau_FlowingNicholsHobbsKing\\labels_burned_preview\n",
      "Local List len :-->> 0\n",
      "Roots C:\\Users\\abfernan\\CrossCanFloodMapping\\DatasetCNNFlood\\C1Dataset\\Done\\template_project\\trn\\Ottawa_Gatineau_RideauMudBuckels\n",
      "Local List len :-->> 3992\n",
      "Roots C:\\Users\\abfernan\\CrossCanFloodMapping\\DatasetCNNFlood\\C1Dataset\\Done\\template_project\\trn\\Ottawa_Gatineau_RideauMudBuckels\\images\n"
     ]
    },
    {
     "name": "stdout",
     "output_type": "stream",
     "text": [
      "Local List len :-->> 3057\n",
      "Roots C:\\Users\\abfernan\\CrossCanFloodMapping\\DatasetCNNFlood\\C1Dataset\\Done\\template_project\\trn\\Ottawa_Gatineau_RideauMudBuckels\\labels\n",
      "Local List len :-->> 0\n",
      "Roots C:\\Users\\abfernan\\CrossCanFloodMapping\\DatasetCNNFlood\\C1Dataset\\Done\\template_project\\trn\\Ottawa_Gatineau_RideauMudBuckels\\labels_burned\n",
      "Local List len :-->> 935\n",
      "Roots C:\\Users\\abfernan\\CrossCanFloodMapping\\DatasetCNNFlood\\C1Dataset\\Done\\template_project\\trn\\Ottawa_Gatineau_RideauMudBuckels\\labels_burned_preview\n",
      "Local List len :-->> 0\n",
      "Roots C:\\Users\\abfernan\\CrossCanFloodMapping\\DatasetCNNFlood\\C1Dataset\\Done\\template_project\\trn\\Ottawa_Gatineau_VilleGatineau\n",
      "Local List len :-->> 345\n",
      "Roots C:\\Users\\abfernan\\CrossCanFloodMapping\\DatasetCNNFlood\\C1Dataset\\Done\\template_project\\trn\\Ottawa_Gatineau_VilleGatineau\\images\n",
      "Local List len :-->> 221\n",
      "Roots C:\\Users\\abfernan\\CrossCanFloodMapping\\DatasetCNNFlood\\C1Dataset\\Done\\template_project\\trn\\Ottawa_Gatineau_VilleGatineau\\labels\n",
      "Local List len :-->> 0\n",
      "Roots C:\\Users\\abfernan\\CrossCanFloodMapping\\DatasetCNNFlood\\C1Dataset\\Done\\template_project\\trn\\Ottawa_Gatineau_VilleGatineau\\labels_burned\n",
      "Local List len :-->> 124\n",
      "Roots C:\\Users\\abfernan\\CrossCanFloodMapping\\DatasetCNNFlood\\C1Dataset\\Done\\template_project\\trn\\Ottawa_Gatineau_VilleGatineau\\labels_burned_preview\n",
      "Local List len :-->> 0\n",
      "Roots C:\\Users\\abfernan\\CrossCanFloodMapping\\DatasetCNNFlood\\C1Dataset\\Done\\template_project\\trn\\TransitDir\n",
      "Local List len :-->> 0\n"
     ]
    }
   ],
   "source": [
    "imagDir = r'C:\\Users\\abfernan\\CrossCanFloodMapping\\DatasetCNNFlood\\C1Dataset\\Done\\template_project\\trn'\n",
    "tifList = U.listALLFilesInDirByExt_fullPath(imagDir, ext='.tif')"
   ]
  },
  {
   "cell_type": "code",
   "execution_count": 7,
   "metadata": {},
   "outputs": [
    {
     "name": "stdout",
     "output_type": "stream",
     "text": [
      "tifList list len 81594\n",
      "C:\\Users\\abfernan\\CrossCanFloodMapping\\DatasetCNNFlood\\C1Dataset\\Done\\template_project\\trn\\CA_Lethbridge\\images\\CA_Lethbridge_360297_05569863046_5500044_366861254.tif\n"
     ]
    }
   ],
   "source": [
    "print(f\"tifList list len {len(tifList)}\")\n",
    "print(tifList[0])"
   ]
  },
  {
   "cell_type": "code",
   "execution_count": null,
   "metadata": {},
   "outputs": [],
   "source": []
  },
  {
   "cell_type": "code",
   "execution_count": null,
   "metadata": {},
   "outputs": [],
   "source": [
    "Dir = r'C:\\Users\\abfernan\\CrossCanFloodMapping\\DatasetCNNFlood\\C1Dataset\\Done\\template_project\\val'\n",
    "listed =[]\n",
    "\n",
    "tste = r'C:\\Users\\abfernan\\CrossCanFloodMapping\\DatasetCNNFlood\\C1Dataset\\Done\\template_project\\val\\Ottawa_Gatineau_VilleGatineau'\n",
    "listed = U.listFreeFilesInDirByExt_fullPath(tste, ext = '.tif')\n",
    "print(len(listed))\n",
    "print(listed[0])"
   ]
  },
  {
   "cell_type": "code",
   "execution_count": 4,
   "metadata": {},
   "outputs": [
    {
     "name": "stdout",
     "output_type": "stream",
     "text": [
      "345\n"
     ]
    }
   ],
   "source": [
    "print(len(listed))"
   ]
  },
  {
   "cell_type": "markdown",
   "metadata": {},
   "source": [
    "## Check in for Operative System"
   ]
  },
  {
   "cell_type": "code",
   "execution_count": null,
   "metadata": {},
   "outputs": [],
   "source": [
    "from sys import platform\n",
    "def getPlatform():\n",
    "    OPS = ''\n",
    "    if platform == \"darwin\":\n",
    "        OPS = \"mac\"\n",
    "    elif platform == \"win32\":\n",
    "        OPS = \"win\"\n",
    "    return OPS \n",
    "\n",
    "####   \n",
    "\n",
    "OPS = getPlatform()\n",
    "\n",
    "if OPS == 'mac': \n",
    "    configPath = 'config\\configMac.yaml'\n",
    "elif OPS == 'win':\n",
    "    configPath = 'config\\configPC.yaml'\n",
    "\n",
    "print(OPS)"
   ]
  }
 ],
 "metadata": {
  "kernelspec": {
   "display_name": "Python 3 (ipykernel)",
   "language": "python",
   "name": "python3"
  },
  "language_info": {
   "codemirror_mode": {
    "name": "ipython",
    "version": 3
   },
   "file_extension": ".py",
   "mimetype": "text/x-python",
   "name": "python",
   "nbconvert_exporter": "python",
   "pygments_lexer": "ipython3",
   "version": "3.10.10"
  }
 },
 "nbformat": 4,
 "nbformat_minor": 2
}
